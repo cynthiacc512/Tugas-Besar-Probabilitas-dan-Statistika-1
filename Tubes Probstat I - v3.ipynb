{
 "cells": [
  {
   "cell_type": "code",
   "execution_count": 1,
   "metadata": {},
   "outputs": [],
   "source": [
    "import pandas as pd\n",
    "import seaborn as sns\n",
    "from scipy import stats\n",
    "import numpy as np\n",
    "import matplotlib.pyplot as plt\n",
    "from statistics import variance"
   ]
  },
  {
   "cell_type": "code",
   "execution_count": 2,
   "metadata": {
    "scrolled": true
   },
   "outputs": [
    {
     "data": {
      "text/html": [
       "<div>\n",
       "<style scoped>\n",
       "    .dataframe tbody tr th:only-of-type {\n",
       "        vertical-align: middle;\n",
       "    }\n",
       "\n",
       "    .dataframe tbody tr th {\n",
       "        vertical-align: top;\n",
       "    }\n",
       "\n",
       "    .dataframe thead th {\n",
       "        text-align: right;\n",
       "    }\n",
       "</style>\n",
       "<table border=\"1\" class=\"dataframe\">\n",
       "  <thead>\n",
       "    <tr style=\"text-align: right;\">\n",
       "      <th></th>\n",
       "      <th>Category</th>\n",
       "      <th>Item</th>\n",
       "      <th>Serving Size</th>\n",
       "      <th>Calories</th>\n",
       "      <th>Calories from Fat</th>\n",
       "      <th>Total Fat</th>\n",
       "      <th>Total Fat (% Daily Value)</th>\n",
       "      <th>Saturated Fat</th>\n",
       "      <th>Saturated Fat (% Daily Value)</th>\n",
       "      <th>Trans Fat</th>\n",
       "      <th>...</th>\n",
       "      <th>Carbohydrates</th>\n",
       "      <th>Carbohydrates (% Daily Value)</th>\n",
       "      <th>Dietary Fiber</th>\n",
       "      <th>Dietary Fiber (% Daily Value)</th>\n",
       "      <th>Sugars</th>\n",
       "      <th>Protein</th>\n",
       "      <th>Vitamin A (% Daily Value)</th>\n",
       "      <th>Vitamin C (% Daily Value)</th>\n",
       "      <th>Calcium (% Daily Value)</th>\n",
       "      <th>Iron (% Daily Value)</th>\n",
       "    </tr>\n",
       "  </thead>\n",
       "  <tbody>\n",
       "    <tr>\n",
       "      <th>0</th>\n",
       "      <td>Breakfast</td>\n",
       "      <td>Egg McMuffin</td>\n",
       "      <td>4.8 oz (136 g)</td>\n",
       "      <td>300</td>\n",
       "      <td>120</td>\n",
       "      <td>13.0</td>\n",
       "      <td>20</td>\n",
       "      <td>5.0</td>\n",
       "      <td>25</td>\n",
       "      <td>0.0</td>\n",
       "      <td>...</td>\n",
       "      <td>31</td>\n",
       "      <td>10</td>\n",
       "      <td>4</td>\n",
       "      <td>17</td>\n",
       "      <td>3</td>\n",
       "      <td>17</td>\n",
       "      <td>10</td>\n",
       "      <td>0</td>\n",
       "      <td>25</td>\n",
       "      <td>15</td>\n",
       "    </tr>\n",
       "    <tr>\n",
       "      <th>1</th>\n",
       "      <td>Breakfast</td>\n",
       "      <td>Egg White Delight</td>\n",
       "      <td>4.8 oz (135 g)</td>\n",
       "      <td>250</td>\n",
       "      <td>70</td>\n",
       "      <td>8.0</td>\n",
       "      <td>12</td>\n",
       "      <td>3.0</td>\n",
       "      <td>15</td>\n",
       "      <td>0.0</td>\n",
       "      <td>...</td>\n",
       "      <td>30</td>\n",
       "      <td>10</td>\n",
       "      <td>4</td>\n",
       "      <td>17</td>\n",
       "      <td>3</td>\n",
       "      <td>18</td>\n",
       "      <td>6</td>\n",
       "      <td>0</td>\n",
       "      <td>25</td>\n",
       "      <td>8</td>\n",
       "    </tr>\n",
       "    <tr>\n",
       "      <th>2</th>\n",
       "      <td>Breakfast</td>\n",
       "      <td>Sausage McMuffin</td>\n",
       "      <td>3.9 oz (111 g)</td>\n",
       "      <td>370</td>\n",
       "      <td>200</td>\n",
       "      <td>23.0</td>\n",
       "      <td>35</td>\n",
       "      <td>8.0</td>\n",
       "      <td>42</td>\n",
       "      <td>0.0</td>\n",
       "      <td>...</td>\n",
       "      <td>29</td>\n",
       "      <td>10</td>\n",
       "      <td>4</td>\n",
       "      <td>17</td>\n",
       "      <td>2</td>\n",
       "      <td>14</td>\n",
       "      <td>8</td>\n",
       "      <td>0</td>\n",
       "      <td>25</td>\n",
       "      <td>10</td>\n",
       "    </tr>\n",
       "    <tr>\n",
       "      <th>3</th>\n",
       "      <td>Breakfast</td>\n",
       "      <td>Sausage McMuffin with Egg</td>\n",
       "      <td>5.7 oz (161 g)</td>\n",
       "      <td>450</td>\n",
       "      <td>250</td>\n",
       "      <td>28.0</td>\n",
       "      <td>43</td>\n",
       "      <td>10.0</td>\n",
       "      <td>52</td>\n",
       "      <td>0.0</td>\n",
       "      <td>...</td>\n",
       "      <td>30</td>\n",
       "      <td>10</td>\n",
       "      <td>4</td>\n",
       "      <td>17</td>\n",
       "      <td>2</td>\n",
       "      <td>21</td>\n",
       "      <td>15</td>\n",
       "      <td>0</td>\n",
       "      <td>30</td>\n",
       "      <td>15</td>\n",
       "    </tr>\n",
       "    <tr>\n",
       "      <th>4</th>\n",
       "      <td>Breakfast</td>\n",
       "      <td>Sausage McMuffin with Egg Whites</td>\n",
       "      <td>5.7 oz (161 g)</td>\n",
       "      <td>400</td>\n",
       "      <td>210</td>\n",
       "      <td>23.0</td>\n",
       "      <td>35</td>\n",
       "      <td>8.0</td>\n",
       "      <td>42</td>\n",
       "      <td>0.0</td>\n",
       "      <td>...</td>\n",
       "      <td>30</td>\n",
       "      <td>10</td>\n",
       "      <td>4</td>\n",
       "      <td>17</td>\n",
       "      <td>2</td>\n",
       "      <td>21</td>\n",
       "      <td>6</td>\n",
       "      <td>0</td>\n",
       "      <td>25</td>\n",
       "      <td>10</td>\n",
       "    </tr>\n",
       "  </tbody>\n",
       "</table>\n",
       "<p>5 rows × 24 columns</p>\n",
       "</div>"
      ],
      "text/plain": [
       "    Category                              Item    Serving Size  Calories  \\\n",
       "0  Breakfast                      Egg McMuffin  4.8 oz (136 g)       300   \n",
       "1  Breakfast                 Egg White Delight  4.8 oz (135 g)       250   \n",
       "2  Breakfast                  Sausage McMuffin  3.9 oz (111 g)       370   \n",
       "3  Breakfast         Sausage McMuffin with Egg  5.7 oz (161 g)       450   \n",
       "4  Breakfast  Sausage McMuffin with Egg Whites  5.7 oz (161 g)       400   \n",
       "\n",
       "   Calories from Fat  Total Fat  Total Fat (% Daily Value)  Saturated Fat  \\\n",
       "0                120       13.0                         20            5.0   \n",
       "1                 70        8.0                         12            3.0   \n",
       "2                200       23.0                         35            8.0   \n",
       "3                250       28.0                         43           10.0   \n",
       "4                210       23.0                         35            8.0   \n",
       "\n",
       "   Saturated Fat (% Daily Value)  Trans Fat  ...  Carbohydrates  \\\n",
       "0                             25        0.0  ...             31   \n",
       "1                             15        0.0  ...             30   \n",
       "2                             42        0.0  ...             29   \n",
       "3                             52        0.0  ...             30   \n",
       "4                             42        0.0  ...             30   \n",
       "\n",
       "   Carbohydrates (% Daily Value)  Dietary Fiber  \\\n",
       "0                             10              4   \n",
       "1                             10              4   \n",
       "2                             10              4   \n",
       "3                             10              4   \n",
       "4                             10              4   \n",
       "\n",
       "   Dietary Fiber (% Daily Value)  Sugars  Protein  Vitamin A (% Daily Value)  \\\n",
       "0                             17       3       17                         10   \n",
       "1                             17       3       18                          6   \n",
       "2                             17       2       14                          8   \n",
       "3                             17       2       21                         15   \n",
       "4                             17       2       21                          6   \n",
       "\n",
       "   Vitamin C (% Daily Value)  Calcium (% Daily Value)  Iron (% Daily Value)  \n",
       "0                          0                       25                    15  \n",
       "1                          0                       25                     8  \n",
       "2                          0                       25                    10  \n",
       "3                          0                       30                    15  \n",
       "4                          0                       25                    10  \n",
       "\n",
       "[5 rows x 24 columns]"
      ]
     },
     "execution_count": 2,
     "metadata": {},
     "output_type": "execute_result"
    }
   ],
   "source": [
    "df = pd.read_csv(\"menu.csv\")\n",
    "df.head()"
   ]
  },
  {
   "cell_type": "code",
   "execution_count": 3,
   "metadata": {
    "scrolled": true
   },
   "outputs": [
    {
     "name": "stdout",
     "output_type": "stream",
     "text": [
      "<class 'pandas.core.frame.DataFrame'>\n",
      "RangeIndex: 260 entries, 0 to 259\n",
      "Data columns (total 24 columns):\n",
      " #   Column                         Non-Null Count  Dtype  \n",
      "---  ------                         --------------  -----  \n",
      " 0   Category                       260 non-null    object \n",
      " 1   Item                           260 non-null    object \n",
      " 2   Serving Size                   260 non-null    object \n",
      " 3   Calories                       260 non-null    int64  \n",
      " 4   Calories from Fat              260 non-null    int64  \n",
      " 5   Total Fat                      260 non-null    float64\n",
      " 6   Total Fat (% Daily Value)      260 non-null    int64  \n",
      " 7   Saturated Fat                  260 non-null    float64\n",
      " 8   Saturated Fat (% Daily Value)  260 non-null    int64  \n",
      " 9   Trans Fat                      260 non-null    float64\n",
      " 10  Cholesterol                    260 non-null    int64  \n",
      " 11  Cholesterol (% Daily Value)    260 non-null    int64  \n",
      " 12  Sodium                         260 non-null    int64  \n",
      " 13  Sodium (% Daily Value)         260 non-null    int64  \n",
      " 14  Carbohydrates                  260 non-null    int64  \n",
      " 15  Carbohydrates (% Daily Value)  260 non-null    int64  \n",
      " 16  Dietary Fiber                  260 non-null    int64  \n",
      " 17  Dietary Fiber (% Daily Value)  260 non-null    int64  \n",
      " 18  Sugars                         260 non-null    int64  \n",
      " 19  Protein                        260 non-null    int64  \n",
      " 20  Vitamin A (% Daily Value)      260 non-null    int64  \n",
      " 21  Vitamin C (% Daily Value)      260 non-null    int64  \n",
      " 22  Calcium (% Daily Value)        260 non-null    int64  \n",
      " 23  Iron (% Daily Value)           260 non-null    int64  \n",
      "dtypes: float64(3), int64(18), object(3)\n",
      "memory usage: 48.9+ KB\n"
     ]
    }
   ],
   "source": [
    "df.info()"
   ]
  },
  {
   "cell_type": "code",
   "execution_count": 4,
   "metadata": {
    "scrolled": true
   },
   "outputs": [
    {
     "data": {
      "text/html": [
       "<div>\n",
       "<style scoped>\n",
       "    .dataframe tbody tr th:only-of-type {\n",
       "        vertical-align: middle;\n",
       "    }\n",
       "\n",
       "    .dataframe tbody tr th {\n",
       "        vertical-align: top;\n",
       "    }\n",
       "\n",
       "    .dataframe thead th {\n",
       "        text-align: right;\n",
       "    }\n",
       "</style>\n",
       "<table border=\"1\" class=\"dataframe\">\n",
       "  <thead>\n",
       "    <tr style=\"text-align: right;\">\n",
       "      <th></th>\n",
       "      <th>Category</th>\n",
       "      <th>Item</th>\n",
       "      <th>Serving Size</th>\n",
       "      <th>Calories</th>\n",
       "      <th>Calories from Fat</th>\n",
       "      <th>Total Fat</th>\n",
       "      <th>Total Fat (% Daily Value)</th>\n",
       "      <th>Saturated Fat</th>\n",
       "      <th>Saturated Fat (% Daily Value)</th>\n",
       "      <th>Trans Fat</th>\n",
       "      <th>...</th>\n",
       "      <th>Carbohydrates</th>\n",
       "      <th>Carbohydrates (% Daily Value)</th>\n",
       "      <th>Dietary Fiber</th>\n",
       "      <th>Dietary Fiber (% Daily Value)</th>\n",
       "      <th>Sugars</th>\n",
       "      <th>Protein</th>\n",
       "      <th>Vitamin A (% Daily Value)</th>\n",
       "      <th>Vitamin C (% Daily Value)</th>\n",
       "      <th>Calcium (% Daily Value)</th>\n",
       "      <th>Iron (% Daily Value)</th>\n",
       "    </tr>\n",
       "  </thead>\n",
       "  <tbody>\n",
       "    <tr>\n",
       "      <th>count</th>\n",
       "      <td>260</td>\n",
       "      <td>260</td>\n",
       "      <td>260</td>\n",
       "      <td>260.000000</td>\n",
       "      <td>260.000000</td>\n",
       "      <td>260.000000</td>\n",
       "      <td>260.000000</td>\n",
       "      <td>260.000000</td>\n",
       "      <td>260.000000</td>\n",
       "      <td>260.000000</td>\n",
       "      <td>...</td>\n",
       "      <td>260.000000</td>\n",
       "      <td>260.000000</td>\n",
       "      <td>260.000000</td>\n",
       "      <td>260.000000</td>\n",
       "      <td>260.000000</td>\n",
       "      <td>260.000000</td>\n",
       "      <td>260.000000</td>\n",
       "      <td>260.000000</td>\n",
       "      <td>260.000000</td>\n",
       "      <td>260.000000</td>\n",
       "    </tr>\n",
       "    <tr>\n",
       "      <th>unique</th>\n",
       "      <td>9</td>\n",
       "      <td>260</td>\n",
       "      <td>107</td>\n",
       "      <td>NaN</td>\n",
       "      <td>NaN</td>\n",
       "      <td>NaN</td>\n",
       "      <td>NaN</td>\n",
       "      <td>NaN</td>\n",
       "      <td>NaN</td>\n",
       "      <td>NaN</td>\n",
       "      <td>...</td>\n",
       "      <td>NaN</td>\n",
       "      <td>NaN</td>\n",
       "      <td>NaN</td>\n",
       "      <td>NaN</td>\n",
       "      <td>NaN</td>\n",
       "      <td>NaN</td>\n",
       "      <td>NaN</td>\n",
       "      <td>NaN</td>\n",
       "      <td>NaN</td>\n",
       "      <td>NaN</td>\n",
       "    </tr>\n",
       "    <tr>\n",
       "      <th>top</th>\n",
       "      <td>Coffee &amp; Tea</td>\n",
       "      <td>Premium Southwest Salad (without Chicken)</td>\n",
       "      <td>16 fl oz cup</td>\n",
       "      <td>NaN</td>\n",
       "      <td>NaN</td>\n",
       "      <td>NaN</td>\n",
       "      <td>NaN</td>\n",
       "      <td>NaN</td>\n",
       "      <td>NaN</td>\n",
       "      <td>NaN</td>\n",
       "      <td>...</td>\n",
       "      <td>NaN</td>\n",
       "      <td>NaN</td>\n",
       "      <td>NaN</td>\n",
       "      <td>NaN</td>\n",
       "      <td>NaN</td>\n",
       "      <td>NaN</td>\n",
       "      <td>NaN</td>\n",
       "      <td>NaN</td>\n",
       "      <td>NaN</td>\n",
       "      <td>NaN</td>\n",
       "    </tr>\n",
       "    <tr>\n",
       "      <th>freq</th>\n",
       "      <td>95</td>\n",
       "      <td>1</td>\n",
       "      <td>45</td>\n",
       "      <td>NaN</td>\n",
       "      <td>NaN</td>\n",
       "      <td>NaN</td>\n",
       "      <td>NaN</td>\n",
       "      <td>NaN</td>\n",
       "      <td>NaN</td>\n",
       "      <td>NaN</td>\n",
       "      <td>...</td>\n",
       "      <td>NaN</td>\n",
       "      <td>NaN</td>\n",
       "      <td>NaN</td>\n",
       "      <td>NaN</td>\n",
       "      <td>NaN</td>\n",
       "      <td>NaN</td>\n",
       "      <td>NaN</td>\n",
       "      <td>NaN</td>\n",
       "      <td>NaN</td>\n",
       "      <td>NaN</td>\n",
       "    </tr>\n",
       "    <tr>\n",
       "      <th>mean</th>\n",
       "      <td>NaN</td>\n",
       "      <td>NaN</td>\n",
       "      <td>NaN</td>\n",
       "      <td>368.269231</td>\n",
       "      <td>127.096154</td>\n",
       "      <td>14.165385</td>\n",
       "      <td>21.815385</td>\n",
       "      <td>6.007692</td>\n",
       "      <td>29.965385</td>\n",
       "      <td>0.203846</td>\n",
       "      <td>...</td>\n",
       "      <td>47.346154</td>\n",
       "      <td>15.780769</td>\n",
       "      <td>1.630769</td>\n",
       "      <td>6.530769</td>\n",
       "      <td>29.423077</td>\n",
       "      <td>13.338462</td>\n",
       "      <td>13.426923</td>\n",
       "      <td>8.534615</td>\n",
       "      <td>20.973077</td>\n",
       "      <td>7.734615</td>\n",
       "    </tr>\n",
       "    <tr>\n",
       "      <th>std</th>\n",
       "      <td>NaN</td>\n",
       "      <td>NaN</td>\n",
       "      <td>NaN</td>\n",
       "      <td>240.269886</td>\n",
       "      <td>127.875914</td>\n",
       "      <td>14.205998</td>\n",
       "      <td>21.885199</td>\n",
       "      <td>5.321873</td>\n",
       "      <td>26.639209</td>\n",
       "      <td>0.429133</td>\n",
       "      <td>...</td>\n",
       "      <td>28.252232</td>\n",
       "      <td>9.419544</td>\n",
       "      <td>1.567717</td>\n",
       "      <td>6.307057</td>\n",
       "      <td>28.679797</td>\n",
       "      <td>11.426146</td>\n",
       "      <td>24.366381</td>\n",
       "      <td>26.345542</td>\n",
       "      <td>17.019953</td>\n",
       "      <td>8.723263</td>\n",
       "    </tr>\n",
       "    <tr>\n",
       "      <th>min</th>\n",
       "      <td>NaN</td>\n",
       "      <td>NaN</td>\n",
       "      <td>NaN</td>\n",
       "      <td>0.000000</td>\n",
       "      <td>0.000000</td>\n",
       "      <td>0.000000</td>\n",
       "      <td>0.000000</td>\n",
       "      <td>0.000000</td>\n",
       "      <td>0.000000</td>\n",
       "      <td>0.000000</td>\n",
       "      <td>...</td>\n",
       "      <td>0.000000</td>\n",
       "      <td>0.000000</td>\n",
       "      <td>0.000000</td>\n",
       "      <td>0.000000</td>\n",
       "      <td>0.000000</td>\n",
       "      <td>0.000000</td>\n",
       "      <td>0.000000</td>\n",
       "      <td>0.000000</td>\n",
       "      <td>0.000000</td>\n",
       "      <td>0.000000</td>\n",
       "    </tr>\n",
       "    <tr>\n",
       "      <th>25%</th>\n",
       "      <td>NaN</td>\n",
       "      <td>NaN</td>\n",
       "      <td>NaN</td>\n",
       "      <td>210.000000</td>\n",
       "      <td>20.000000</td>\n",
       "      <td>2.375000</td>\n",
       "      <td>3.750000</td>\n",
       "      <td>1.000000</td>\n",
       "      <td>4.750000</td>\n",
       "      <td>0.000000</td>\n",
       "      <td>...</td>\n",
       "      <td>30.000000</td>\n",
       "      <td>10.000000</td>\n",
       "      <td>0.000000</td>\n",
       "      <td>0.000000</td>\n",
       "      <td>5.750000</td>\n",
       "      <td>4.000000</td>\n",
       "      <td>2.000000</td>\n",
       "      <td>0.000000</td>\n",
       "      <td>6.000000</td>\n",
       "      <td>0.000000</td>\n",
       "    </tr>\n",
       "    <tr>\n",
       "      <th>50%</th>\n",
       "      <td>NaN</td>\n",
       "      <td>NaN</td>\n",
       "      <td>NaN</td>\n",
       "      <td>340.000000</td>\n",
       "      <td>100.000000</td>\n",
       "      <td>11.000000</td>\n",
       "      <td>17.000000</td>\n",
       "      <td>5.000000</td>\n",
       "      <td>24.000000</td>\n",
       "      <td>0.000000</td>\n",
       "      <td>...</td>\n",
       "      <td>44.000000</td>\n",
       "      <td>15.000000</td>\n",
       "      <td>1.000000</td>\n",
       "      <td>5.000000</td>\n",
       "      <td>17.500000</td>\n",
       "      <td>12.000000</td>\n",
       "      <td>8.000000</td>\n",
       "      <td>0.000000</td>\n",
       "      <td>20.000000</td>\n",
       "      <td>4.000000</td>\n",
       "    </tr>\n",
       "    <tr>\n",
       "      <th>75%</th>\n",
       "      <td>NaN</td>\n",
       "      <td>NaN</td>\n",
       "      <td>NaN</td>\n",
       "      <td>500.000000</td>\n",
       "      <td>200.000000</td>\n",
       "      <td>22.250000</td>\n",
       "      <td>35.000000</td>\n",
       "      <td>10.000000</td>\n",
       "      <td>48.000000</td>\n",
       "      <td>0.000000</td>\n",
       "      <td>...</td>\n",
       "      <td>60.000000</td>\n",
       "      <td>20.000000</td>\n",
       "      <td>3.000000</td>\n",
       "      <td>10.000000</td>\n",
       "      <td>48.000000</td>\n",
       "      <td>19.000000</td>\n",
       "      <td>15.000000</td>\n",
       "      <td>4.000000</td>\n",
       "      <td>30.000000</td>\n",
       "      <td>15.000000</td>\n",
       "    </tr>\n",
       "    <tr>\n",
       "      <th>max</th>\n",
       "      <td>NaN</td>\n",
       "      <td>NaN</td>\n",
       "      <td>NaN</td>\n",
       "      <td>1880.000000</td>\n",
       "      <td>1060.000000</td>\n",
       "      <td>118.000000</td>\n",
       "      <td>182.000000</td>\n",
       "      <td>20.000000</td>\n",
       "      <td>102.000000</td>\n",
       "      <td>2.500000</td>\n",
       "      <td>...</td>\n",
       "      <td>141.000000</td>\n",
       "      <td>47.000000</td>\n",
       "      <td>7.000000</td>\n",
       "      <td>28.000000</td>\n",
       "      <td>128.000000</td>\n",
       "      <td>87.000000</td>\n",
       "      <td>170.000000</td>\n",
       "      <td>240.000000</td>\n",
       "      <td>70.000000</td>\n",
       "      <td>40.000000</td>\n",
       "    </tr>\n",
       "  </tbody>\n",
       "</table>\n",
       "<p>11 rows × 24 columns</p>\n",
       "</div>"
      ],
      "text/plain": [
       "            Category                                       Item  Serving Size  \\\n",
       "count            260                                        260           260   \n",
       "unique             9                                        260           107   \n",
       "top     Coffee & Tea  Premium Southwest Salad (without Chicken)  16 fl oz cup   \n",
       "freq              95                                          1            45   \n",
       "mean             NaN                                        NaN           NaN   \n",
       "std              NaN                                        NaN           NaN   \n",
       "min              NaN                                        NaN           NaN   \n",
       "25%              NaN                                        NaN           NaN   \n",
       "50%              NaN                                        NaN           NaN   \n",
       "75%              NaN                                        NaN           NaN   \n",
       "max              NaN                                        NaN           NaN   \n",
       "\n",
       "           Calories  Calories from Fat   Total Fat  Total Fat (% Daily Value)  \\\n",
       "count    260.000000         260.000000  260.000000                 260.000000   \n",
       "unique          NaN                NaN         NaN                        NaN   \n",
       "top             NaN                NaN         NaN                        NaN   \n",
       "freq            NaN                NaN         NaN                        NaN   \n",
       "mean     368.269231         127.096154   14.165385                  21.815385   \n",
       "std      240.269886         127.875914   14.205998                  21.885199   \n",
       "min        0.000000           0.000000    0.000000                   0.000000   \n",
       "25%      210.000000          20.000000    2.375000                   3.750000   \n",
       "50%      340.000000         100.000000   11.000000                  17.000000   \n",
       "75%      500.000000         200.000000   22.250000                  35.000000   \n",
       "max     1880.000000        1060.000000  118.000000                 182.000000   \n",
       "\n",
       "        Saturated Fat  Saturated Fat (% Daily Value)   Trans Fat  ...  \\\n",
       "count      260.000000                     260.000000  260.000000  ...   \n",
       "unique            NaN                            NaN         NaN  ...   \n",
       "top               NaN                            NaN         NaN  ...   \n",
       "freq              NaN                            NaN         NaN  ...   \n",
       "mean         6.007692                      29.965385    0.203846  ...   \n",
       "std          5.321873                      26.639209    0.429133  ...   \n",
       "min          0.000000                       0.000000    0.000000  ...   \n",
       "25%          1.000000                       4.750000    0.000000  ...   \n",
       "50%          5.000000                      24.000000    0.000000  ...   \n",
       "75%         10.000000                      48.000000    0.000000  ...   \n",
       "max         20.000000                     102.000000    2.500000  ...   \n",
       "\n",
       "        Carbohydrates  Carbohydrates (% Daily Value)  Dietary Fiber  \\\n",
       "count      260.000000                     260.000000     260.000000   \n",
       "unique            NaN                            NaN            NaN   \n",
       "top               NaN                            NaN            NaN   \n",
       "freq              NaN                            NaN            NaN   \n",
       "mean        47.346154                      15.780769       1.630769   \n",
       "std         28.252232                       9.419544       1.567717   \n",
       "min          0.000000                       0.000000       0.000000   \n",
       "25%         30.000000                      10.000000       0.000000   \n",
       "50%         44.000000                      15.000000       1.000000   \n",
       "75%         60.000000                      20.000000       3.000000   \n",
       "max        141.000000                      47.000000       7.000000   \n",
       "\n",
       "        Dietary Fiber (% Daily Value)      Sugars     Protein  \\\n",
       "count                      260.000000  260.000000  260.000000   \n",
       "unique                            NaN         NaN         NaN   \n",
       "top                               NaN         NaN         NaN   \n",
       "freq                              NaN         NaN         NaN   \n",
       "mean                         6.530769   29.423077   13.338462   \n",
       "std                          6.307057   28.679797   11.426146   \n",
       "min                          0.000000    0.000000    0.000000   \n",
       "25%                          0.000000    5.750000    4.000000   \n",
       "50%                          5.000000   17.500000   12.000000   \n",
       "75%                         10.000000   48.000000   19.000000   \n",
       "max                         28.000000  128.000000   87.000000   \n",
       "\n",
       "        Vitamin A (% Daily Value)  Vitamin C (% Daily Value)  \\\n",
       "count                  260.000000                 260.000000   \n",
       "unique                        NaN                        NaN   \n",
       "top                           NaN                        NaN   \n",
       "freq                          NaN                        NaN   \n",
       "mean                    13.426923                   8.534615   \n",
       "std                     24.366381                  26.345542   \n",
       "min                      0.000000                   0.000000   \n",
       "25%                      2.000000                   0.000000   \n",
       "50%                      8.000000                   0.000000   \n",
       "75%                     15.000000                   4.000000   \n",
       "max                    170.000000                 240.000000   \n",
       "\n",
       "        Calcium (% Daily Value)  Iron (% Daily Value)  \n",
       "count                260.000000            260.000000  \n",
       "unique                      NaN                   NaN  \n",
       "top                         NaN                   NaN  \n",
       "freq                        NaN                   NaN  \n",
       "mean                  20.973077              7.734615  \n",
       "std                   17.019953              8.723263  \n",
       "min                    0.000000              0.000000  \n",
       "25%                    6.000000              0.000000  \n",
       "50%                   20.000000              4.000000  \n",
       "75%                   30.000000             15.000000  \n",
       "max                   70.000000             40.000000  \n",
       "\n",
       "[11 rows x 24 columns]"
      ]
     },
     "execution_count": 4,
     "metadata": {},
     "output_type": "execute_result"
    }
   ],
   "source": [
    "df.describe(include=\"all\")"
   ]
  },
  {
   "cell_type": "markdown",
   "metadata": {},
   "source": [
    "## Cek Data Duplikat"
   ]
  },
  {
   "cell_type": "code",
   "execution_count": 5,
   "metadata": {
    "scrolled": false
   },
   "outputs": [
    {
     "data": {
      "text/html": [
       "<div>\n",
       "<style scoped>\n",
       "    .dataframe tbody tr th:only-of-type {\n",
       "        vertical-align: middle;\n",
       "    }\n",
       "\n",
       "    .dataframe tbody tr th {\n",
       "        vertical-align: top;\n",
       "    }\n",
       "\n",
       "    .dataframe thead th {\n",
       "        text-align: right;\n",
       "    }\n",
       "</style>\n",
       "<table border=\"1\" class=\"dataframe\">\n",
       "  <thead>\n",
       "    <tr style=\"text-align: right;\">\n",
       "      <th></th>\n",
       "      <th>Category</th>\n",
       "      <th>Item</th>\n",
       "      <th>Serving Size</th>\n",
       "      <th>Calories</th>\n",
       "      <th>Calories from Fat</th>\n",
       "      <th>Total Fat</th>\n",
       "      <th>Total Fat (% Daily Value)</th>\n",
       "      <th>Saturated Fat</th>\n",
       "      <th>Saturated Fat (% Daily Value)</th>\n",
       "      <th>Trans Fat</th>\n",
       "      <th>...</th>\n",
       "      <th>Carbohydrates</th>\n",
       "      <th>Carbohydrates (% Daily Value)</th>\n",
       "      <th>Dietary Fiber</th>\n",
       "      <th>Dietary Fiber (% Daily Value)</th>\n",
       "      <th>Sugars</th>\n",
       "      <th>Protein</th>\n",
       "      <th>Vitamin A (% Daily Value)</th>\n",
       "      <th>Vitamin C (% Daily Value)</th>\n",
       "      <th>Calcium (% Daily Value)</th>\n",
       "      <th>Iron (% Daily Value)</th>\n",
       "    </tr>\n",
       "  </thead>\n",
       "  <tbody>\n",
       "  </tbody>\n",
       "</table>\n",
       "<p>0 rows × 24 columns</p>\n",
       "</div>"
      ],
      "text/plain": [
       "Empty DataFrame\n",
       "Columns: [Category, Item, Serving Size, Calories, Calories from Fat, Total Fat, Total Fat (% Daily Value), Saturated Fat, Saturated Fat (% Daily Value), Trans Fat, Cholesterol, Cholesterol (% Daily Value), Sodium, Sodium (% Daily Value), Carbohydrates, Carbohydrates (% Daily Value), Dietary Fiber, Dietary Fiber (% Daily Value), Sugars, Protein, Vitamin A (% Daily Value), Vitamin C (% Daily Value), Calcium (% Daily Value), Iron (% Daily Value)]\n",
       "Index: []\n",
       "\n",
       "[0 rows x 24 columns]"
      ]
     },
     "execution_count": 5,
     "metadata": {},
     "output_type": "execute_result"
    }
   ],
   "source": [
    "df[df.duplicated()]\n",
    "# df.drop_duplicates(keep=False, inplace=True)"
   ]
  },
  {
   "cell_type": "markdown",
   "metadata": {},
   "source": [
    "#### Disini tidak terlihat adanya data duplikat"
   ]
  },
  {
   "cell_type": "markdown",
   "metadata": {},
   "source": [
    "## Cek Data Kosong"
   ]
  },
  {
   "cell_type": "code",
   "execution_count": 6,
   "metadata": {
    "scrolled": false
   },
   "outputs": [
    {
     "data": {
      "text/plain": [
       "Category                         0\n",
       "Item                             0\n",
       "Serving Size                     0\n",
       "Calories                         0\n",
       "Calories from Fat                0\n",
       "Total Fat                        0\n",
       "Total Fat (% Daily Value)        0\n",
       "Saturated Fat                    0\n",
       "Saturated Fat (% Daily Value)    0\n",
       "Trans Fat                        0\n",
       "Cholesterol                      0\n",
       "Cholesterol (% Daily Value)      0\n",
       "Sodium                           0\n",
       "Sodium (% Daily Value)           0\n",
       "Carbohydrates                    0\n",
       "Carbohydrates (% Daily Value)    0\n",
       "Dietary Fiber                    0\n",
       "Dietary Fiber (% Daily Value)    0\n",
       "Sugars                           0\n",
       "Protein                          0\n",
       "Vitamin A (% Daily Value)        0\n",
       "Vitamin C (% Daily Value)        0\n",
       "Calcium (% Daily Value)          0\n",
       "Iron (% Daily Value)             0\n",
       "dtype: int64"
      ]
     },
     "execution_count": 6,
     "metadata": {},
     "output_type": "execute_result"
    }
   ],
   "source": [
    "df.isnull().sum()"
   ]
  },
  {
   "cell_type": "markdown",
   "metadata": {},
   "source": [
    "#### Disini juga tidak terlihat ada missing value"
   ]
  },
  {
   "cell_type": "markdown",
   "metadata": {},
   "source": [
    "## Cek Outliers (Boxplot)"
   ]
  },
  {
   "cell_type": "markdown",
   "metadata": {},
   "source": [
    "category, item, kalori, total fat, kolestrol, sodium"
   ]
  },
  {
   "cell_type": "code",
   "execution_count": 7,
   "metadata": {},
   "outputs": [],
   "source": [
    "numerical_cols = ['Calories', 'Calories from Fat', 'Total Fat', 'Total Fat (% Daily Value)', 'Saturated Fat','Saturated Fat (% Daily Value)', 'Trans Fat', 'Cholesterol', 'Cholesterol (% Daily Value)', 'Sodium', 'Sodium (% Daily Value)', 'Carbohydrates', 'Carbohydrates (% Daily Value)', 'Dietary Fiber', 'Dietary Fiber (% Daily Value)', 'Sugars', 'Protein', 'Vitamin A (% Daily Value)', 'Vitamin C (% Daily Value)', 'Calcium (% Daily Value)', 'Iron (% Daily Value)']"
   ]
  },
  {
   "cell_type": "code",
   "execution_count": 8,
   "metadata": {
    "scrolled": true
   },
   "outputs": [
    {
     "data": {
      "image/png": "[encoded data removed]",
      "text/plain": [
       "<Figure size 432x288 with 1 Axes>"
      ]
     },
     "metadata": {
      "needs_background": "light"
     },
     "output_type": "display_data"
    },
    {
     "data": {
      "image/png": "[encoded data removed]",
      "text/plain": [
       "<Figure size 432x288 with 1 Axes>"
      ]
     },
     "metadata": {
      "needs_background": "light"
     },
     "output_type": "display_data"
    },
    {
     "data": {
      "image/png": "[encoded data removed]",
      "text/plain": [
       "<Figure size 432x288 with 1 Axes>"
      ]
     },
     "metadata": {
      "needs_background": "light"
     },
     "output_type": "display_data"
    },
    {
     "data": {
      "image/png": "[encoded data removed]",
      "text/plain": [
       "<Figure size 432x288 with 1 Axes>"
      ]
     },
     "metadata": {
      "needs_background": "light"
     },
     "output_type": "display_data"
    },
    {
     "data": {
      "image/png": "[encoded data removed]",
      "text/plain": [
       "<Figure size 432x288 with 1 Axes>"
      ]
     },
     "metadata": {
      "needs_background": "light"
     },
     "output_type": "display_data"
    },
    {
     "data": {
      "image/png": "[encoded data removed]",
      "text/plain": [
       "<Figure size 432x288 with 1 Axes>"
      ]
     },
     "metadata": {
      "needs_background": "light"
     },
     "output_type": "display_data"
    },
    {
     "data": {
      "image/png": "[encoded data removed]",
      "text/plain": [
       "<Figure size 432x288 with 1 Axes>"
      ]
     },
     "metadata": {
      "needs_background": "light"
     },
     "output_type": "display_data"
    },
    {
     "data": {
      "image/png": "[encoded data removed]",
      "text/plain": [
       "<Figure size 432x288 with 1 Axes>"
      ]
     },
     "metadata": {
      "needs_background": "light"
     },
     "output_type": "display_data"
    },
    {
     "data": {
      "image/png": "[encoded data removed]",
      "text/plain": [
       "<Figure size 432x288 with 1 Axes>"
      ]
     },
     "metadata": {
      "needs_background": "light"
     },
     "output_type": "display_data"
    },
    {
     "data": {
      "image/png": "[encoded data removed]",
      "text/plain": [
       "<Figure size 432x288 with 1 Axes>"
      ]
     },
     "metadata": {
      "needs_background": "light"
     },
     "output_type": "display_data"
    },
    {
     "data": {
      "image/png": "[encoded data removed]",
      "text/plain": [
       "<Figure size 432x288 with 1 Axes>"
      ]
     },
     "metadata": {
      "needs_background": "light"
     },
     "output_type": "display_data"
    },
    {
     "data": {
      "image/png": "[encoded data removed]",
      "text/plain": [
       "<Figure size 432x288 with 1 Axes>"
      ]
     },
     "metadata": {
      "needs_background": "light"
     },
     "output_type": "display_data"
    },
    {
     "data": {
      "image/png": "[encoded data removed]",
      "text/plain": [
       "<Figure size 432x288 with 1 Axes>"
      ]
     },
     "metadata": {
      "needs_background": "light"
     },
     "output_type": "display_data"
    },
    {
     "data": {
      "image/png": "[encoded data removed]",
      "text/plain": [
       "<Figure size 432x288 with 1 Axes>"
      ]
     },
     "metadata": {
      "needs_background": "light"
     },
     "output_type": "display_data"
    },
    {
     "data": {
      "image/png": "[encoded data removed]",
      "text/plain": [
       "<Figure size 432x288 with 1 Axes>"
      ]
     },
     "metadata": {
      "needs_background": "light"
     },
     "output_type": "display_data"
    },
    {
     "data": {
      "image/png": "[encoded data removed]",
      "text/plain": [
       "<Figure size 432x288 with 1 Axes>"
      ]
     },
     "metadata": {
      "needs_background": "light"
     },
     "output_type": "display_data"
    },
    {
     "data": {
      "image/png": "[encoded data removed]",
      "text/plain": [
       "<Figure size 432x288 with 1 Axes>"
      ]
     },
     "metadata": {
      "needs_background": "light"
     },
     "output_type": "display_data"
    },
    {
     "data": {
      "image/png": "[encoded data removed]",
      "text/plain": [
       "<Figure size 432x288 with 1 Axes>"
      ]
     },
     "metadata": {
      "needs_background": "light"
     },
     "output_type": "display_data"
    },
    {
     "data": {
      "image/png": "[encoded data removed]",
      "text/plain": [
       "<Figure size 432x288 with 1 Axes>"
      ]
     },
     "metadata": {
      "needs_background": "light"
     },
     "output_type": "display_data"
    },
    {
     "data": {
      "image/png": "[encoded data removed]",
      "text/plain": [
       "<Figure size 432x288 with 1 Axes>"
      ]
     },
     "metadata": {
      "needs_background": "light"
     },
     "output_type": "display_data"
    },
    {
     "data": {
      "image/png": "[encoded data removed]",
      "text/plain": [
       "<Figure size 432x288 with 1 Axes>"
      ]
     },
     "metadata": {
      "needs_background": "light"
     },
     "output_type": "display_data"
    }
   ],
   "source": [
    "for cols in numerical_cols:\n",
    "    sns.boxplot(x=df[cols])\n",
    "    plt.show()"
   ]
  },
  {
   "cell_type": "code",
   "execution_count": 9,
   "metadata": {
    "scrolled": true
   },
   "outputs": [
    {
     "name": "stdout",
     "output_type": "stream",
     "text": [
      "0      300\n",
      "1      250\n",
      "2      370\n",
      "3      450\n",
      "4      400\n",
      "      ... \n",
      "255    510\n",
      "256    690\n",
      "257    340\n",
      "258    810\n",
      "259    410\n",
      "Name: Calories, Length: 260, dtype: int64\n",
      "Q1:  210.0\n",
      "Q3:  500.0\n",
      "IQR:  290.0\n",
      "batas bawah:  -225.0\n",
      "batas atas:  935.0\n",
      "Outliers: [1090, 1150, 990, 1050, 940, 1880]\n",
      "jml: 6\n",
      "===============================\n",
      "0      120\n",
      "1       70\n",
      "2      200\n",
      "3      250\n",
      "4      210\n",
      "      ... \n",
      "255    150\n",
      "256    200\n",
      "257    100\n",
      "258    290\n",
      "259    150\n",
      "Name: Calories from Fat, Length: 260, dtype: int64\n",
      "Q1:  20.0\n",
      "Q3:  200.0\n",
      "IQR:  180.0\n",
      "batas bawah:  -250.0\n",
      "batas atas:  470.0\n",
      "Outliers: [510, 540, 530, 1060]\n",
      "jml: 4\n",
      "===============================\n",
      "0      13.0\n",
      "1       8.0\n",
      "2      23.0\n",
      "3      28.0\n",
      "4      23.0\n",
      "       ... \n",
      "255    17.0\n",
      "256    23.0\n",
      "257    11.0\n",
      "258    32.0\n",
      "259    16.0\n",
      "Name: Total Fat, Length: 260, dtype: float64\n",
      "Q1:  2.375\n",
      "Q3:  22.25\n",
      "IQR:  19.875\n",
      "batas bawah:  -27.4375\n",
      "batas atas:  52.0625\n",
      "Outliers: [56.0, 60.0, 59.0, 118.0]\n",
      "jml: 4\n",
      "===============================\n",
      "0      20\n",
      "1      12\n",
      "2      35\n",
      "3      43\n",
      "4      35\n",
      "       ..\n",
      "255    26\n",
      "256    35\n",
      "257    17\n",
      "258    50\n",
      "259    25\n",
      "Name: Total Fat (% Daily Value), Length: 260, dtype: int64\n",
      "Q1:  3.75\n",
      "Q3:  35.0\n",
      "IQR:  31.25\n",
      "batas bawah:  -43.125\n",
      "batas atas:  81.875\n",
      "Outliers: [87, 93, 91, 182]\n",
      "jml: 4\n",
      "===============================\n",
      "0       5.0\n",
      "1       3.0\n",
      "2       8.0\n",
      "3      10.0\n",
      "4       8.0\n",
      "       ... \n",
      "255     9.0\n",
      "256    12.0\n",
      "257     6.0\n",
      "258    15.0\n",
      "259     8.0\n",
      "Name: Saturated Fat, Length: 260, dtype: float64\n",
      "Q1:  1.0\n",
      "Q3:  10.0\n",
      "IQR:  9.0\n",
      "batas bawah:  -12.5\n",
      "batas atas:  23.5\n",
      "Outliers: []\n",
      "jml: 0\n",
      "===============================\n",
      "0      25\n",
      "1      15\n",
      "2      42\n",
      "3      52\n",
      "4      42\n",
      "       ..\n",
      "255    44\n",
      "256    58\n",
      "257    29\n",
      "258    76\n",
      "259    38\n",
      "Name: Saturated Fat (% Daily Value), Length: 260, dtype: int64\n",
      "Q1:  4.75\n",
      "Q3:  48.0\n",
      "IQR:  43.25\n",
      "batas bawah:  -60.125\n",
      "batas atas:  112.875\n",
      "Outliers: []\n",
      "jml: 0\n",
      "===============================\n",
      "0      0.0\n",
      "1      0.0\n",
      "2      0.0\n",
      "3      0.0\n",
      "4      0.0\n",
      "      ... \n",
      "255    0.5\n",
      "256    1.0\n",
      "257    0.0\n",
      "258    1.0\n",
      "259    0.0\n",
      "Name: Trans Fat, Length: 260, dtype: float64\n",
      "Q1:  0.0\n",
      "Q3:  0.0\n",
      "IQR:  0.0\n",
      "batas bawah:  0.0\n",
      "batas atas:  0.0\n",
      "Outliers: [1.0, 1.0, 0.5, 0.5, 1.5, 1.0, 1.5, 1.5, 1.5, 1.5, 2.5, 0.5, 1.0, 1.5, 1.0, 1.0, 1.0, 1.0, 0.5, 0.5, 0.5, 0.5, 0.5, 1.0, 0.5, 0.5, 0.5, 0.5, 0.5, 0.5, 0.5, 1.0, 1.0, 1.0, 1.0, 1.0, 1.5, 1.0, 1.0, 1.5, 1.0, 1.0, 1.0, 1.0, 1.0, 1.0, 1.0, 1.0, 1.0, 1.0, 1.0, 0.5, 1.0, 0.5, 1.0, 1.0]\n",
      "jml: 56\n",
      "===============================\n",
      "0      260\n",
      "1       25\n",
      "2       45\n",
      "3      285\n",
      "4       50\n",
      "      ... \n",
      "255     45\n",
      "256     55\n",
      "257     30\n",
      "258     60\n",
      "259     30\n",
      "Name: Cholesterol, Length: 260, dtype: int64\n",
      "Q1:  5.0\n",
      "Q3:  65.0\n",
      "IQR:  60.0\n",
      "batas bawah:  -85.0\n",
      "batas atas:  155.0\n",
      "Outliers: [260, 285, 300, 250, 250, 250, 250, 280, 250, 265, 275, 295, 555, 555, 575, 575, 160, 265]\n",
      "jml: 18\n",
      "===============================\n",
      "0      87\n",
      "1       8\n",
      "2      15\n",
      "3      95\n",
      "4      16\n",
      "       ..\n",
      "255    14\n",
      "256    19\n",
      "257     9\n",
      "258    20\n",
      "259    10\n",
      "Name: Cholesterol (% Daily Value), Length: 260, dtype: int64\n",
      "Q1:  2.0\n",
      "Q3:  21.25\n",
      "IQR:  19.25\n",
      "batas bawah:  -26.875\n",
      "batas atas:  50.125\n",
      "Outliers: [87, 95, 100, 83, 83, 83, 83, 93, 84, 89, 92, 99, 185, 185, 192, 192, 53, 89]\n",
      "jml: 18\n",
      "===============================\n",
      "0      750\n",
      "1      770\n",
      "2      780\n",
      "3      860\n",
      "4      880\n",
      "      ... \n",
      "255    280\n",
      "256    380\n",
      "257    190\n",
      "258    400\n",
      "259    200\n",
      "Name: Sodium, Length: 260, dtype: int64\n",
      "Q1:  107.5\n",
      "Q3:  865.0\n",
      "IQR:  757.5\n",
      "batas bawah:  -1028.75\n",
      "batas atas:  2001.25\n",
      "Outliers: [2150, 2260, 2170, 2290, 3600]\n",
      "jml: 5\n",
      "===============================\n",
      "0      31\n",
      "1      32\n",
      "2      33\n",
      "3      36\n",
      "4      37\n",
      "       ..\n",
      "255    12\n",
      "256    16\n",
      "257     8\n",
      "258    17\n",
      "259     8\n",
      "Name: Sodium (% Daily Value), Length: 260, dtype: int64\n",
      "Q1:  4.75\n",
      "Q3:  36.25\n",
      "IQR:  31.5\n",
      "batas bawah:  -42.5\n",
      "batas atas:  83.5\n",
      "Outliers: [90, 94, 91, 95, 150]\n",
      "jml: 5\n",
      "===============================\n",
      "0       31\n",
      "1       30\n",
      "2       29\n",
      "3       30\n",
      "4       30\n",
      "      ... \n",
      "255     80\n",
      "256    106\n",
      "257     53\n",
      "258    114\n",
      "259     57\n",
      "Name: Carbohydrates, Length: 260, dtype: int64\n",
      "Q1:  30.0\n",
      "Q3:  60.0\n",
      "IQR:  30.0\n",
      "batas bawah:  -15.0\n",
      "batas atas:  105.0\n",
      "Outliers: [111, 116, 110, 115, 118, 111, 109, 135, 114, 140, 114, 141, 109, 135, 139, 106, 114]\n",
      "jml: 17\n",
      "===============================\n",
      "0      10\n",
      "1      10\n",
      "2      10\n",
      "3      10\n",
      "4      10\n",
      "       ..\n",
      "255    27\n",
      "256    35\n",
      "257    18\n",
      "258    38\n",
      "259    19\n",
      "Name: Carbohydrates (% Daily Value), Length: 260, dtype: int64\n",
      "Q1:  10.0\n",
      "Q3:  20.0\n",
      "IQR:  10.0\n",
      "batas bawah:  -5.0\n",
      "batas atas:  35.0\n",
      "Outliers: [37, 39, 37, 38, 39, 37, 36, 45, 38, 47, 38, 47, 36, 45, 46, 38]\n",
      "jml: 16\n",
      "===============================\n",
      "0      4\n",
      "1      4\n",
      "2      4\n",
      "3      4\n",
      "4      4\n",
      "      ..\n",
      "255    1\n",
      "256    1\n",
      "257    1\n",
      "258    2\n",
      "259    1\n",
      "Name: Dietary Fiber, Length: 260, dtype: int64\n",
      "Q1:  0.0\n",
      "Q3:  3.0\n",
      "IQR:  3.0\n",
      "batas bawah:  -4.5\n",
      "batas atas:  7.5\n",
      "Outliers: []\n",
      "jml: 0\n",
      "===============================\n",
      "0      17\n",
      "1      17\n",
      "2      17\n",
      "3      17\n",
      "4      17\n",
      "       ..\n",
      "255     4\n",
      "256     5\n",
      "257     2\n",
      "258     9\n",
      "259     5\n",
      "Name: Dietary Fiber (% Daily Value), Length: 260, dtype: int64\n",
      "Q1:  0.0\n",
      "Q3:  10.0\n",
      "IQR:  10.0\n",
      "batas bawah:  -15.0\n",
      "batas atas:  25.0\n",
      "Outliers: [28, 28, 28, 28]\n",
      "jml: 4\n",
      "===============================\n",
      "0        3\n",
      "1        3\n",
      "2        2\n",
      "3        2\n",
      "4        2\n",
      "      ... \n",
      "255     64\n",
      "256     85\n",
      "257     43\n",
      "258    103\n",
      "259     51\n",
      "Name: Sugars, Length: 260, dtype: int64\n",
      "Q1:  5.75\n",
      "Q3:  48.0\n",
      "IQR:  42.25\n",
      "batas bawah:  -57.625\n",
      "batas atas:  111.375\n",
      "Outliers: [123, 120, 115, 128]\n",
      "jml: 4\n",
      "===============================\n",
      "0      17\n",
      "1      18\n",
      "2      14\n",
      "3      21\n",
      "4      21\n",
      "       ..\n",
      "255    12\n",
      "256    15\n",
      "257     8\n",
      "258    21\n",
      "259    10\n",
      "Name: Protein, Length: 260, dtype: int64\n",
      "Q1:  4.0\n",
      "Q3:  19.0\n",
      "IQR:  15.0\n",
      "batas bawah:  -18.5\n",
      "batas atas:  41.5\n",
      "Outliers: [48, 44, 87]\n",
      "jml: 3\n",
      "===============================\n",
      "0      10\n",
      "1       6\n",
      "2       8\n",
      "3      15\n",
      "4       6\n",
      "       ..\n",
      "255    15\n",
      "256    20\n",
      "257    10\n",
      "258    20\n",
      "259    10\n",
      "Name: Vitamin A (% Daily Value), Length: 260, dtype: int64\n",
      "Q1:  2.0\n",
      "Q3:  15.0\n",
      "IQR:  13.0\n",
      "batas bawah:  -17.5\n",
      "batas atas:  34.5\n",
      "Outliers: [60, 60, 60, 60, 60, 70, 60, 60, 170, 100, 110, 160, 170, 170, 45, 40, 50]\n",
      "jml: 17\n",
      "===============================\n",
      "0      0\n",
      "1      0\n",
      "2      0\n",
      "3      0\n",
      "4      0\n",
      "      ..\n",
      "255    0\n",
      "256    0\n",
      "257    0\n",
      "258    0\n",
      "259    0\n",
      "Name: Vitamin C (% Daily Value), Length: 260, dtype: int64\n",
      "Q1:  0.0\n",
      "Q3:  4.0\n",
      "IQR:  4.0\n",
      "batas bawah:  -6.0\n",
      "batas atas:  10.0\n",
      "Outliers: [15, 15, 130, 130, 15, 20, 25, 20, 20, 20, 20, 25, 30, 20, 25, 15, 15, 15, 15, 15, 15, 15, 30, 25, 30, 25, 30, 30, 30, 45, 70, 15, 25, 160, 15, 25, 100, 130, 160, 240, 30, 35, 45, 20, 25, 30]\n",
      "jml: 46\n",
      "===============================\n",
      "0      25\n",
      "1      25\n",
      "2      25\n",
      "3      30\n",
      "4      25\n",
      "       ..\n",
      "255    40\n",
      "256    50\n",
      "257    25\n",
      "258    60\n",
      "259    30\n",
      "Name: Calcium (% Daily Value), Length: 260, dtype: int64\n",
      "Q1:  6.0\n",
      "Q3:  30.0\n",
      "IQR:  24.0\n",
      "batas bawah:  -30.0\n",
      "batas atas:  66.0\n",
      "Outliers: [70, 70]\n",
      "jml: 2\n",
      "===============================\n",
      "0      15\n",
      "1       8\n",
      "2      10\n",
      "3      15\n",
      "4      10\n",
      "       ..\n",
      "255     8\n",
      "256    10\n",
      "257     6\n",
      "258     6\n",
      "259     4\n",
      "Name: Iron (% Daily Value), Length: 260, dtype: int64\n",
      "Q1:  0.0\n",
      "Q3:  15.0\n",
      "IQR:  15.0\n",
      "batas bawah:  -22.5\n",
      "batas atas:  37.5\n",
      "Outliers: [40, 40]\n",
      "jml: 2\n",
      "===============================\n"
     ]
    }
   ],
   "source": [
    "for cols in numerical_cols:\n",
    "    q1 = np.percentile(df[cols],25)\n",
    "    q3 = np.percentile(df[cols],75)\n",
    "    \n",
    "    print(df[cols])\n",
    "    print('Q1: ',q1)\n",
    "    print('Q3: ',q3)\n",
    "\n",
    "    iqr = q3-q1\n",
    "    print('IQR: ',iqr)\n",
    "\n",
    "    low_lim = q1 - 1.5 * iqr\n",
    "    up_lim = q3 + 1.5 * iqr\n",
    "    print('batas bawah: ', low_lim)\n",
    "    print('batas atas: ', up_lim)\n",
    "\n",
    "    outlier_boxplot =[] \n",
    "    for x in df[cols]: \n",
    "        if ((x > up_lim) or (x < low_lim)): \n",
    "             outlier_boxplot.append(x) \n",
    "\n",
    "    jumlah_outliers_boxplot = len(outlier_boxplot)\n",
    "\n",
    "    print('Outliers:', outlier_boxplot)\n",
    "    print('jml:' , jumlah_outliers_boxplot)\n",
    "    print('===============================')"
   ]
  },
  {
   "cell_type": "markdown",
   "metadata": {},
   "source": [
    "## Remove Outliers (Z-Score) (kalori, total fat, Saturated Fat, kolestrol, sodium)"
   ]
  },
  {
   "cell_type": "code",
   "execution_count": 10,
   "metadata": {},
   "outputs": [],
   "source": [
    "z = np.abs(stats.zscore(df[\"Calories\"]))\n",
    "df_rm_outliers = df[z > -3]\n",
    "df_rm_outliers = df_rm_outliers[z < 3]"
   ]
  },
  {
   "cell_type": "code",
   "execution_count": 11,
   "metadata": {},
   "outputs": [
    {
     "data": {
      "text/plain": [
       "125       0\n",
       "138       0\n",
       "137       0\n",
       "136       0\n",
       "145       0\n",
       "       ... \n",
       "33      990\n",
       "34     1050\n",
       "31     1090\n",
       "32     1150\n",
       "82     1880\n",
       "Name: Calories, Length: 260, dtype: int64"
      ]
     },
     "execution_count": 11,
     "metadata": {},
     "output_type": "execute_result"
    }
   ],
   "source": [
    "df[\"Calories\"].sort_values()"
   ]
  },
  {
   "cell_type": "code",
   "execution_count": 12,
   "metadata": {},
   "outputs": [],
   "source": [
    "data_calories = df_rm_outliers.reset_index(drop=True)"
   ]
  },
  {
   "cell_type": "code",
   "execution_count": 13,
   "metadata": {
    "scrolled": false
   },
   "outputs": [
    {
     "data": {
      "text/plain": [
       "<matplotlib.axes._subplots.AxesSubplot at 0x25a2eb22340>"
      ]
     },
     "execution_count": 13,
     "metadata": {},
     "output_type": "execute_result"
    },
    {
     "data": {
      "image/png": "[encoded data removed]",
      "text/plain": [
       "<Figure size 432x288 with 1 Axes>"
      ]
     },
     "metadata": {
      "needs_background": "light"
     },
     "output_type": "display_data"
    }
   ],
   "source": [
    "sns.boxplot(x=data_calories[\"Calories\"])"
   ]
  },
  {
   "cell_type": "code",
   "execution_count": 14,
   "metadata": {},
   "outputs": [
    {
     "name": "stdout",
     "output_type": "stream",
     "text": [
      "Q1:  210.0\n",
      "Q3:  480.0\n",
      "IQR:  270.0\n",
      "batas bawah:  -195.0\n",
      "batas atas:  885.0\n",
      "Outliers: [990, 1050, 940, 930]\n",
      "jml: 4\n"
     ]
    }
   ],
   "source": [
    "q1 = np.percentile(data_calories[\"Calories\"],25)\n",
    "q3 = np.percentile(data_calories[\"Calories\"],75)\n",
    "\n",
    "print('Q1: ',q1)\n",
    "print('Q3: ',q3)\n",
    "\n",
    "iqr = q3-q1\n",
    "print('IQR: ',iqr)\n",
    "\n",
    "low_lim = q1 - 1.5 * iqr\n",
    "up_lim = q3 + 1.5 * iqr\n",
    "print('batas bawah: ', low_lim)\n",
    "print('batas atas: ', up_lim)\n",
    "\n",
    "outlier_boxplot =[] \n",
    "for x in data_calories[\"Calories\"]: \n",
    "    if ((x > up_lim) or (x < low_lim)): \n",
    "         outlier_boxplot.append(x) \n",
    "            \n",
    "jumlah_outliers_boxplot = len(outlier_boxplot)\n",
    "\n",
    "print('Outliers:', outlier_boxplot)\n",
    "print('jml:' , jumlah_outliers_boxplot)"
   ]
  },
  {
   "cell_type": "code",
   "execution_count": 15,
   "metadata": {
    "scrolled": false
   },
   "outputs": [
    {
     "data": {
      "text/plain": [
       "<matplotlib.axes._subplots.AxesSubplot at 0x25a2ebd5490>"
      ]
     },
     "execution_count": 15,
     "metadata": {},
     "output_type": "execute_result"
    },
    {
     "data": {
      "image/png": "[encoded data removed]",
      "text/plain": [
       "<Figure size 432x288 with 1 Axes>"
      ]
     },
     "metadata": {
      "needs_background": "light"
     },
     "output_type": "display_data"
    }
   ],
   "source": [
    "z = np.abs(stats.zscore(data_calories[\"Total Fat\"]))\n",
    "df_rm_outliers_totalfat = data_calories[z > -3]\n",
    "df_rm_outliers_totalfat = df_rm_outliers_totalfat[z < 3]\n",
    "\n",
    "data_calories[\"Total Fat\"].sort_values()\n",
    "\n",
    "data_totalfat = df_rm_outliers_totalfat.reset_index(drop=True)\n",
    "\n",
    "sns.boxplot(x=data_totalfat[\"Total Fat\"])"
   ]
  },
  {
   "cell_type": "code",
   "execution_count": 16,
   "metadata": {},
   "outputs": [
    {
     "name": "stdout",
     "output_type": "stream",
     "text": [
      "Q1:  1.625\n",
      "Q3:  22.0\n",
      "IQR:  20.375\n",
      "batas bawah:  -28.9375\n",
      "batas atas:  52.5625\n",
      "Outliers: []\n",
      "jml: 0\n"
     ]
    }
   ],
   "source": [
    "q1 = np.percentile(data_totalfat[\"Total Fat\"],25)\n",
    "q3 = np.percentile(data_totalfat[\"Total Fat\"],75)\n",
    "\n",
    "print('Q1: ',q1)\n",
    "print('Q3: ',q3)\n",
    "\n",
    "iqr = q3-q1\n",
    "print('IQR: ',iqr)\n",
    "\n",
    "low_lim = q1 - 1.5 * iqr\n",
    "up_lim = q3 + 1.5 * iqr\n",
    "print('batas bawah: ', low_lim)\n",
    "print('batas atas: ', up_lim)\n",
    "\n",
    "outlier_boxplot =[] \n",
    "for x in data_totalfat[\"Total Fat\"]: \n",
    "    if ((x > up_lim) or (x < low_lim)): \n",
    "         outlier_boxplot.append(x) \n",
    "            \n",
    "jumlah_outliers_boxplot = len(outlier_boxplot)\n",
    "\n",
    "print('Outliers:', outlier_boxplot)\n",
    "print('jml:' , jumlah_outliers_boxplot)"
   ]
  },
  {
   "cell_type": "code",
   "execution_count": 17,
   "metadata": {},
   "outputs": [
    {
     "data": {
      "text/plain": [
       "<matplotlib.axes._subplots.AxesSubplot at 0x25a2ee2e430>"
      ]
     },
     "execution_count": 17,
     "metadata": {},
     "output_type": "execute_result"
    },
    {
     "data": {
      "image/png": "[encoded data removed]",
      "text/plain": [
       "<Figure size 432x288 with 1 Axes>"
      ]
     },
     "metadata": {
      "needs_background": "light"
     },
     "output_type": "display_data"
    }
   ],
   "source": [
    "z = np.abs(stats.zscore(data_totalfat[\"Saturated Fat\"]))\n",
    "df_rm_outliers_saturatedfat = data_totalfat[z > -3]\n",
    "df_rm_outliers_saturatedfat = df_rm_outliers_saturatedfat[z < 3]\n",
    "\n",
    "data_totalfat[\"Saturated Fat\"].sort_values()\n",
    "\n",
    "data_saturatedfat = df_rm_outliers_saturatedfat.reset_index(drop=True)\n",
    "\n",
    "sns.boxplot(x=data_saturatedfat[\"Saturated Fat\"])"
   ]
  },
  {
   "cell_type": "code",
   "execution_count": 18,
   "metadata": {},
   "outputs": [
    {
     "name": "stdout",
     "output_type": "stream",
     "text": [
      "Q1:  1.0\n",
      "Q3:  9.0\n",
      "IQR:  8.0\n",
      "batas bawah:  -11.0\n",
      "batas atas:  21.0\n",
      "Outliers: []\n",
      "jml: 0\n"
     ]
    }
   ],
   "source": [
    "q1 = np.percentile(data_saturatedfat[\"Saturated Fat\"],25)\n",
    "q3 = np.percentile(data_saturatedfat[\"Saturated Fat\"],75)\n",
    "\n",
    "print('Q1: ',q1)\n",
    "print('Q3: ',q3)\n",
    "\n",
    "iqr = q3-q1\n",
    "print('IQR: ',iqr)\n",
    "\n",
    "low_lim = q1 - 1.5 * iqr\n",
    "up_lim = q3 + 1.5 * iqr\n",
    "print('batas bawah: ', low_lim)\n",
    "print('batas atas: ', up_lim)\n",
    "\n",
    "outlier_boxplot =[] \n",
    "for x in data_saturatedfat[\"Saturated Fat\"]: \n",
    "    if ((x > up_lim) or (x < low_lim)): \n",
    "         outlier_boxplot.append(x) \n",
    "            \n",
    "jumlah_outliers_boxplot = len(outlier_boxplot)\n",
    "\n",
    "print('Outliers:', outlier_boxplot)\n",
    "print('jml:' , jumlah_outliers_boxplot)"
   ]
  },
  {
   "cell_type": "code",
   "execution_count": 19,
   "metadata": {
    "scrolled": true
   },
   "outputs": [
    {
     "data": {
      "text/plain": [
       "<matplotlib.axes._subplots.AxesSubplot at 0x25a2ee6f6a0>"
      ]
     },
     "execution_count": 19,
     "metadata": {},
     "output_type": "execute_result"
    },
    {
     "data": {
      "image/png": "[encoded data removed]",
      "text/plain": [
       "<Figure size 432x288 with 1 Axes>"
      ]
     },
     "metadata": {
      "needs_background": "light"
     },
     "output_type": "display_data"
    }
   ],
   "source": [
    "z = np.abs(stats.zscore(data_totalfat[\"Cholesterol\"]))\n",
    "df_rm_outliers_kolestrol = data_totalfat[z > -3]\n",
    "df_rm_outliers_kolestrol = df_rm_outliers_kolestrol[z < 3]\n",
    "\n",
    "data_totalfat[\"Cholesterol\"].sort_values()\n",
    "\n",
    "data_kolestrol = df_rm_outliers_kolestrol.reset_index(drop=True)\n",
    "\n",
    "sns.boxplot(x=data_kolestrol[\"Cholesterol\"])"
   ]
  },
  {
   "cell_type": "code",
   "execution_count": 20,
   "metadata": {},
   "outputs": [
    {
     "name": "stdout",
     "output_type": "stream",
     "text": [
      "Q1:  5.0\n",
      "Q3:  50.0\n",
      "IQR:  45.0\n",
      "batas bawah:  -62.5\n",
      "batas atas:  117.5\n",
      "Outliers: [160]\n",
      "jml: 1\n"
     ]
    }
   ],
   "source": [
    "q1 = np.percentile(data_kolestrol[\"Cholesterol\"],25)\n",
    "q3 = np.percentile(data_kolestrol[\"Cholesterol\"],75)\n",
    "\n",
    "print('Q1: ',q1)\n",
    "print('Q3: ',q3)\n",
    "\n",
    "iqr = q3-q1\n",
    "print('IQR: ',iqr)\n",
    "\n",
    "low_lim = q1 - 1.5 * iqr\n",
    "up_lim = q3 + 1.5 * iqr\n",
    "print('batas bawah: ', low_lim)\n",
    "print('batas atas: ', up_lim)\n",
    "\n",
    "outlier_boxplot =[] \n",
    "for x in data_kolestrol[\"Cholesterol\"]: \n",
    "    if ((x > up_lim) or (x < low_lim)): \n",
    "         outlier_boxplot.append(x) \n",
    "            \n",
    "jumlah_outliers_boxplot = len(outlier_boxplot)\n",
    "\n",
    "print('Outliers:', outlier_boxplot)\n",
    "print('jml:' , jumlah_outliers_boxplot)"
   ]
  },
  {
   "cell_type": "code",
   "execution_count": 21,
   "metadata": {},
   "outputs": [
    {
     "data": {
      "text/plain": [
       "<matplotlib.axes._subplots.AxesSubplot at 0x25a2ecb22b0>"
      ]
     },
     "execution_count": 21,
     "metadata": {},
     "output_type": "execute_result"
    },
    {
     "data": {
      "image/png": "[encoded data removed]",
      "text/plain": [
       "<Figure size 432x288 with 1 Axes>"
      ]
     },
     "metadata": {
      "needs_background": "light"
     },
     "output_type": "display_data"
    }
   ],
   "source": [
    "z = np.abs(stats.zscore(data_kolestrol[\"Protein\"]))\n",
    "df_rm_outliers_protein = data_kolestrol[z > -3]\n",
    "df_rm_outliers_protein = df_rm_outliers_protein[z < 3]\n",
    "\n",
    "data_kolestrol[\"Protein\"].sort_values()\n",
    "\n",
    "data_protein = df_rm_outliers_protein.reset_index(drop=True)\n",
    "\n",
    "sns.boxplot(x=data_protein[\"Protein\"])"
   ]
  },
  {
   "cell_type": "code",
   "execution_count": 22,
   "metadata": {},
   "outputs": [
    {
     "name": "stdout",
     "output_type": "stream",
     "text": [
      "Q1:  3.0\n",
      "Q3:  16.25\n",
      "IQR:  13.25\n",
      "batas bawah:  -16.875\n",
      "batas atas:  36.125\n",
      "Outliers: [37, 37, 39, 40, 40]\n",
      "jml: 5\n"
     ]
    }
   ],
   "source": [
    "q1 = np.percentile(data_protein[\"Protein\"],25)\n",
    "q3 = np.percentile(data_protein[\"Protein\"],75)\n",
    "\n",
    "print('Q1: ',q1)\n",
    "print('Q3: ',q3)\n",
    "\n",
    "iqr = q3-q1\n",
    "print('IQR: ',iqr)\n",
    "\n",
    "low_lim = q1 - 1.5 * iqr\n",
    "up_lim = q3 + 1.5 * iqr\n",
    "print('batas bawah: ', low_lim)\n",
    "print('batas atas: ', up_lim)\n",
    "\n",
    "outlier_boxplot =[] \n",
    "for x in data_protein[\"Protein\"]: \n",
    "    if ((x > up_lim) or (x < low_lim)): \n",
    "         outlier_boxplot.append(x) \n",
    "            \n",
    "jumlah_outliers_boxplot = len(outlier_boxplot)\n",
    "\n",
    "print('Outliers:', outlier_boxplot)\n",
    "print('jml:' , jumlah_outliers_boxplot)"
   ]
  },
  {
   "cell_type": "code",
   "execution_count": 23,
   "metadata": {
    "scrolled": false
   },
   "outputs": [
    {
     "data": {
      "text/plain": [
       "<matplotlib.axes._subplots.AxesSubplot at 0x25a2ee771c0>"
      ]
     },
     "execution_count": 23,
     "metadata": {},
     "output_type": "execute_result"
    },
    {
     "data": {
      "image/png": "[encoded data removed]",
      "text/plain": [
       "<Figure size 432x288 with 1 Axes>"
      ]
     },
     "metadata": {
      "needs_background": "light"
     },
     "output_type": "display_data"
    }
   ],
   "source": [
    "z = np.abs(stats.zscore(data_kolestrol[\"Sodium\"]))\n",
    "df_rm_outliers_sodium = data_kolestrol[z > -3]\n",
    "df_rm_outliers_sodium = df_rm_outliers_sodium[z < 3]\n",
    "\n",
    "data_kolestrol[\"Sodium\"].sort_values()\n",
    "\n",
    "data_sodium = df_rm_outliers_sodium.reset_index(drop=True)\n",
    "\n",
    "sns.boxplot(x=data_sodium[\"Sodium\"])"
   ]
  },
  {
   "cell_type": "code",
   "execution_count": 24,
   "metadata": {
    "scrolled": true
   },
   "outputs": [
    {
     "name": "stdout",
     "output_type": "stream",
     "text": [
      "Q1:  83.75\n",
      "Q3:  705.0\n",
      "IQR:  621.25\n",
      "batas bawah:  -848.125\n",
      "batas atas:  1636.875\n",
      "Outliers: [1700, 1720]\n",
      "jml: 2\n"
     ]
    }
   ],
   "source": [
    "q1 = np.percentile(data_sodium[\"Sodium\"],25)\n",
    "q3 = np.percentile(data_sodium[\"Sodium\"],75)\n",
    "\n",
    "print('Q1: ',q1)\n",
    "print('Q3: ',q3)\n",
    "\n",
    "iqr = q3-q1\n",
    "print('IQR: ',iqr)\n",
    "\n",
    "low_lim = q1 - 1.5 * iqr\n",
    "up_lim = q3 + 1.5 * iqr\n",
    "print('batas bawah: ', low_lim)\n",
    "print('batas atas: ', up_lim)\n",
    "\n",
    "outlier_boxplot =[] \n",
    "for x in data_sodium[\"Sodium\"]: \n",
    "    if ((x > up_lim) or (x < low_lim)): \n",
    "         outlier_boxplot.append(x) \n",
    "            \n",
    "jumlah_outliers_boxplot = len(outlier_boxplot)\n",
    "\n",
    "print('Outliers:', outlier_boxplot)\n",
    "print('jml:' , jumlah_outliers_boxplot)"
   ]
  },
  {
   "cell_type": "code",
   "execution_count": 25,
   "metadata": {},
   "outputs": [],
   "source": [
    "df_cleaned = data_sodium"
   ]
  },
  {
   "cell_type": "code",
   "execution_count": 26,
   "metadata": {
    "scrolled": true
   },
   "outputs": [
    {
     "data": {
      "text/html": [
       "<div>\n",
       "<style scoped>\n",
       "    .dataframe tbody tr th:only-of-type {\n",
       "        vertical-align: middle;\n",
       "    }\n",
       "\n",
       "    .dataframe tbody tr th {\n",
       "        vertical-align: top;\n",
       "    }\n",
       "\n",
       "    .dataframe thead th {\n",
       "        text-align: right;\n",
       "    }\n",
       "</style>\n",
       "<table border=\"1\" class=\"dataframe\">\n",
       "  <thead>\n",
       "    <tr style=\"text-align: right;\">\n",
       "      <th></th>\n",
       "      <th>Calories</th>\n",
       "      <th>Calories from Fat</th>\n",
       "      <th>Total Fat</th>\n",
       "      <th>Total Fat (% Daily Value)</th>\n",
       "      <th>Saturated Fat</th>\n",
       "      <th>Saturated Fat (% Daily Value)</th>\n",
       "      <th>Trans Fat</th>\n",
       "      <th>Cholesterol</th>\n",
       "      <th>Cholesterol (% Daily Value)</th>\n",
       "      <th>Sodium</th>\n",
       "      <th>...</th>\n",
       "      <th>Carbohydrates</th>\n",
       "      <th>Carbohydrates (% Daily Value)</th>\n",
       "      <th>Dietary Fiber</th>\n",
       "      <th>Dietary Fiber (% Daily Value)</th>\n",
       "      <th>Sugars</th>\n",
       "      <th>Protein</th>\n",
       "      <th>Vitamin A (% Daily Value)</th>\n",
       "      <th>Vitamin C (% Daily Value)</th>\n",
       "      <th>Calcium (% Daily Value)</th>\n",
       "      <th>Iron (% Daily Value)</th>\n",
       "    </tr>\n",
       "  </thead>\n",
       "  <tbody>\n",
       "    <tr>\n",
       "      <th>count</th>\n",
       "      <td>240.000000</td>\n",
       "      <td>240.000000</td>\n",
       "      <td>240.000000</td>\n",
       "      <td>240.000000</td>\n",
       "      <td>240.000000</td>\n",
       "      <td>240.00000</td>\n",
       "      <td>240.000000</td>\n",
       "      <td>240.000000</td>\n",
       "      <td>240.000000</td>\n",
       "      <td>240.000000</td>\n",
       "      <td>...</td>\n",
       "      <td>240.000000</td>\n",
       "      <td>240.000000</td>\n",
       "      <td>240.000000</td>\n",
       "      <td>240.000000</td>\n",
       "      <td>240.000000</td>\n",
       "      <td>240.000000</td>\n",
       "      <td>240.000000</td>\n",
       "      <td>240.000000</td>\n",
       "      <td>240.000000</td>\n",
       "      <td>240.000000</td>\n",
       "    </tr>\n",
       "    <tr>\n",
       "      <th>mean</th>\n",
       "      <td>337.625000</td>\n",
       "      <td>106.645833</td>\n",
       "      <td>11.891667</td>\n",
       "      <td>18.316667</td>\n",
       "      <td>5.354167</td>\n",
       "      <td>26.68750</td>\n",
       "      <td>0.200000</td>\n",
       "      <td>34.604167</td>\n",
       "      <td>11.608333</td>\n",
       "      <td>402.604167</td>\n",
       "      <td>...</td>\n",
       "      <td>46.150000</td>\n",
       "      <td>15.379167</td>\n",
       "      <td>1.450000</td>\n",
       "      <td>5.808333</td>\n",
       "      <td>31.279167</td>\n",
       "      <td>11.975000</td>\n",
       "      <td>13.650000</td>\n",
       "      <td>8.895833</td>\n",
       "      <td>21.087500</td>\n",
       "      <td>6.483333</td>\n",
       "    </tr>\n",
       "    <tr>\n",
       "      <th>std</th>\n",
       "      <td>199.096245</td>\n",
       "      <td>95.067140</td>\n",
       "      <td>10.551365</td>\n",
       "      <td>16.253990</td>\n",
       "      <td>4.879466</td>\n",
       "      <td>24.41256</td>\n",
       "      <td>0.426134</td>\n",
       "      <td>31.396199</td>\n",
       "      <td>10.432325</td>\n",
       "      <td>463.071641</td>\n",
       "      <td>...</td>\n",
       "      <td>27.636962</td>\n",
       "      <td>9.212166</td>\n",
       "      <td>1.416283</td>\n",
       "      <td>5.702962</td>\n",
       "      <td>29.034844</td>\n",
       "      <td>9.892698</td>\n",
       "      <td>25.293474</td>\n",
       "      <td>27.361243</td>\n",
       "      <td>17.582937</td>\n",
       "      <td>7.529561</td>\n",
       "    </tr>\n",
       "    <tr>\n",
       "      <th>min</th>\n",
       "      <td>0.000000</td>\n",
       "      <td>0.000000</td>\n",
       "      <td>0.000000</td>\n",
       "      <td>0.000000</td>\n",
       "      <td>0.000000</td>\n",
       "      <td>0.00000</td>\n",
       "      <td>0.000000</td>\n",
       "      <td>0.000000</td>\n",
       "      <td>0.000000</td>\n",
       "      <td>0.000000</td>\n",
       "      <td>...</td>\n",
       "      <td>0.000000</td>\n",
       "      <td>0.000000</td>\n",
       "      <td>0.000000</td>\n",
       "      <td>0.000000</td>\n",
       "      <td>0.000000</td>\n",
       "      <td>0.000000</td>\n",
       "      <td>0.000000</td>\n",
       "      <td>0.000000</td>\n",
       "      <td>0.000000</td>\n",
       "      <td>0.000000</td>\n",
       "    </tr>\n",
       "    <tr>\n",
       "      <th>25%</th>\n",
       "      <td>197.500000</td>\n",
       "      <td>10.000000</td>\n",
       "      <td>1.000000</td>\n",
       "      <td>1.750000</td>\n",
       "      <td>0.375000</td>\n",
       "      <td>2.25000</td>\n",
       "      <td>0.000000</td>\n",
       "      <td>5.000000</td>\n",
       "      <td>2.000000</td>\n",
       "      <td>83.750000</td>\n",
       "      <td>...</td>\n",
       "      <td>29.750000</td>\n",
       "      <td>10.000000</td>\n",
       "      <td>0.000000</td>\n",
       "      <td>0.000000</td>\n",
       "      <td>6.000000</td>\n",
       "      <td>3.000000</td>\n",
       "      <td>2.000000</td>\n",
       "      <td>0.000000</td>\n",
       "      <td>6.000000</td>\n",
       "      <td>0.000000</td>\n",
       "    </tr>\n",
       "    <tr>\n",
       "      <th>50%</th>\n",
       "      <td>330.000000</td>\n",
       "      <td>85.000000</td>\n",
       "      <td>9.500000</td>\n",
       "      <td>14.500000</td>\n",
       "      <td>4.500000</td>\n",
       "      <td>22.00000</td>\n",
       "      <td>0.000000</td>\n",
       "      <td>30.000000</td>\n",
       "      <td>10.000000</td>\n",
       "      <td>180.000000</td>\n",
       "      <td>...</td>\n",
       "      <td>44.000000</td>\n",
       "      <td>15.000000</td>\n",
       "      <td>1.000000</td>\n",
       "      <td>5.000000</td>\n",
       "      <td>21.500000</td>\n",
       "      <td>11.000000</td>\n",
       "      <td>8.000000</td>\n",
       "      <td>0.000000</td>\n",
       "      <td>20.000000</td>\n",
       "      <td>4.000000</td>\n",
       "    </tr>\n",
       "    <tr>\n",
       "      <th>75%</th>\n",
       "      <td>460.000000</td>\n",
       "      <td>180.000000</td>\n",
       "      <td>20.000000</td>\n",
       "      <td>31.000000</td>\n",
       "      <td>8.000000</td>\n",
       "      <td>42.00000</td>\n",
       "      <td>0.000000</td>\n",
       "      <td>50.000000</td>\n",
       "      <td>17.000000</td>\n",
       "      <td>705.000000</td>\n",
       "      <td>...</td>\n",
       "      <td>60.000000</td>\n",
       "      <td>20.000000</td>\n",
       "      <td>2.000000</td>\n",
       "      <td>8.250000</td>\n",
       "      <td>51.000000</td>\n",
       "      <td>16.250000</td>\n",
       "      <td>15.000000</td>\n",
       "      <td>2.500000</td>\n",
       "      <td>30.000000</td>\n",
       "      <td>10.000000</td>\n",
       "    </tr>\n",
       "    <tr>\n",
       "      <th>max</th>\n",
       "      <td>930.000000</td>\n",
       "      <td>380.000000</td>\n",
       "      <td>43.000000</td>\n",
       "      <td>66.000000</td>\n",
       "      <td>20.000000</td>\n",
       "      <td>102.00000</td>\n",
       "      <td>2.500000</td>\n",
       "      <td>160.000000</td>\n",
       "      <td>53.000000</td>\n",
       "      <td>1720.000000</td>\n",
       "      <td>...</td>\n",
       "      <td>141.000000</td>\n",
       "      <td>47.000000</td>\n",
       "      <td>7.000000</td>\n",
       "      <td>28.000000</td>\n",
       "      <td>128.000000</td>\n",
       "      <td>48.000000</td>\n",
       "      <td>170.000000</td>\n",
       "      <td>240.000000</td>\n",
       "      <td>70.000000</td>\n",
       "      <td>35.000000</td>\n",
       "    </tr>\n",
       "  </tbody>\n",
       "</table>\n",
       "<p>8 rows × 21 columns</p>\n",
       "</div>"
      ],
      "text/plain": [
       "         Calories  Calories from Fat   Total Fat  Total Fat (% Daily Value)  \\\n",
       "count  240.000000         240.000000  240.000000                 240.000000   \n",
       "mean   337.625000         106.645833   11.891667                  18.316667   \n",
       "std    199.096245          95.067140   10.551365                  16.253990   \n",
       "min      0.000000           0.000000    0.000000                   0.000000   \n",
       "25%    197.500000          10.000000    1.000000                   1.750000   \n",
       "50%    330.000000          85.000000    9.500000                  14.500000   \n",
       "75%    460.000000         180.000000   20.000000                  31.000000   \n",
       "max    930.000000         380.000000   43.000000                  66.000000   \n",
       "\n",
       "       Saturated Fat  Saturated Fat (% Daily Value)   Trans Fat  Cholesterol  \\\n",
       "count     240.000000                      240.00000  240.000000   240.000000   \n",
       "mean        5.354167                       26.68750    0.200000    34.604167   \n",
       "std         4.879466                       24.41256    0.426134    31.396199   \n",
       "min         0.000000                        0.00000    0.000000     0.000000   \n",
       "25%         0.375000                        2.25000    0.000000     5.000000   \n",
       "50%         4.500000                       22.00000    0.000000    30.000000   \n",
       "75%         8.000000                       42.00000    0.000000    50.000000   \n",
       "max        20.000000                      102.00000    2.500000   160.000000   \n",
       "\n",
       "       Cholesterol (% Daily Value)       Sodium  ...  Carbohydrates  \\\n",
       "count                   240.000000   240.000000  ...     240.000000   \n",
       "mean                     11.608333   402.604167  ...      46.150000   \n",
       "std                      10.432325   463.071641  ...      27.636962   \n",
       "min                       0.000000     0.000000  ...       0.000000   \n",
       "25%                       2.000000    83.750000  ...      29.750000   \n",
       "50%                      10.000000   180.000000  ...      44.000000   \n",
       "75%                      17.000000   705.000000  ...      60.000000   \n",
       "max                      53.000000  1720.000000  ...     141.000000   \n",
       "\n",
       "       Carbohydrates (% Daily Value)  Dietary Fiber  \\\n",
       "count                     240.000000     240.000000   \n",
       "mean                       15.379167       1.450000   \n",
       "std                         9.212166       1.416283   \n",
       "min                         0.000000       0.000000   \n",
       "25%                        10.000000       0.000000   \n",
       "50%                        15.000000       1.000000   \n",
       "75%                        20.000000       2.000000   \n",
       "max                        47.000000       7.000000   \n",
       "\n",
       "       Dietary Fiber (% Daily Value)      Sugars     Protein  \\\n",
       "count                     240.000000  240.000000  240.000000   \n",
       "mean                        5.808333   31.279167   11.975000   \n",
       "std                         5.702962   29.034844    9.892698   \n",
       "min                         0.000000    0.000000    0.000000   \n",
       "25%                         0.000000    6.000000    3.000000   \n",
       "50%                         5.000000   21.500000   11.000000   \n",
       "75%                         8.250000   51.000000   16.250000   \n",
       "max                        28.000000  128.000000   48.000000   \n",
       "\n",
       "       Vitamin A (% Daily Value)  Vitamin C (% Daily Value)  \\\n",
       "count                 240.000000                 240.000000   \n",
       "mean                   13.650000                   8.895833   \n",
       "std                    25.293474                  27.361243   \n",
       "min                     0.000000                   0.000000   \n",
       "25%                     2.000000                   0.000000   \n",
       "50%                     8.000000                   0.000000   \n",
       "75%                    15.000000                   2.500000   \n",
       "max                   170.000000                 240.000000   \n",
       "\n",
       "       Calcium (% Daily Value)  Iron (% Daily Value)  \n",
       "count               240.000000            240.000000  \n",
       "mean                 21.087500              6.483333  \n",
       "std                  17.582937              7.529561  \n",
       "min                   0.000000              0.000000  \n",
       "25%                   6.000000              0.000000  \n",
       "50%                  20.000000              4.000000  \n",
       "75%                  30.000000             10.000000  \n",
       "max                  70.000000             35.000000  \n",
       "\n",
       "[8 rows x 21 columns]"
      ]
     },
     "execution_count": 26,
     "metadata": {},
     "output_type": "execute_result"
    }
   ],
   "source": [
    "df_cleaned.describe()"
   ]
  },
  {
   "cell_type": "markdown",
   "metadata": {},
   "source": [
    "## Korelasi antar variabel numerical"
   ]
  },
  {
   "cell_type": "code",
   "execution_count": 27,
   "metadata": {
    "scrolled": false
   },
   "outputs": [
    {
     "name": "stderr",
     "output_type": "stream",
     "text": [
      "C:\\Users\\cynthia\\anaconda3\\lib\\site-packages\\seaborn\\_decorators.py:36: FutureWarning: Pass the following variables as keyword args: x, y. From version 0.12, the only valid positional argument will be `data`, and passing other arguments without an explicit keyword will result in an error or misinterpretation.\n",
      "  warnings.warn(\n"
     ]
    },
    {
     "data": {
      "text/plain": [
       "Text(0, 0.5, 'Carbohydrates')"
      ]
     },
     "execution_count": 27,
     "metadata": {},
     "output_type": "execute_result"
    },
    {
     "data": {
      "image/png": "[encoded data removed]",
      "text/plain": [
       "<Figure size 432x288 with 1 Axes>"
      ]
     },
     "metadata": {
      "needs_background": "light"
     },
     "output_type": "display_data"
    }
   ],
   "source": [
    "sns.scatterplot('Calories','Carbohydrates',data=df_cleaned)\n",
    "plt.title('Calories vs Carbohydrates', fontsize=18)\n",
    "plt.xlabel('Calories', fontsize=16)\n",
    "plt.ylabel('Carbohydrates', fontsize=16)"
   ]
  },
  {
   "cell_type": "code",
   "execution_count": 28,
   "metadata": {},
   "outputs": [
    {
     "name": "stderr",
     "output_type": "stream",
     "text": [
      "C:\\Users\\cynthia\\anaconda3\\lib\\site-packages\\seaborn\\_decorators.py:36: FutureWarning: Pass the following variables as keyword args: x, y. From version 0.12, the only valid positional argument will be `data`, and passing other arguments without an explicit keyword will result in an error or misinterpretation.\n",
      "  warnings.warn(\n"
     ]
    },
    {
     "data": {
      "text/plain": [
       "Text(0, 0.5, 'Total Fat')"
      ]
     },
     "execution_count": 28,
     "metadata": {},
     "output_type": "execute_result"
    },
    {
     "data": {
      "image/png": "[encoded data removed]",
      "text/plain": [
       "<Figure size 432x288 with 1 Axes>"
      ]
     },
     "metadata": {
      "needs_background": "light"
     },
     "output_type": "display_data"
    }
   ],
   "source": [
    "sns.scatterplot('Calories','Total Fat',data=df_cleaned)\n",
    "plt.title('Calories vs Total Fat', fontsize=18)\n",
    "plt.xlabel('Calories', fontsize=16)\n",
    "plt.ylabel('Total Fat', fontsize=16)"
   ]
  },
  {
   "cell_type": "code",
   "execution_count": 29,
   "metadata": {},
   "outputs": [
    {
     "name": "stderr",
     "output_type": "stream",
     "text": [
      "C:\\Users\\cynthia\\anaconda3\\lib\\site-packages\\seaborn\\_decorators.py:36: FutureWarning: Pass the following variables as keyword args: x, y. From version 0.12, the only valid positional argument will be `data`, and passing other arguments without an explicit keyword will result in an error or misinterpretation.\n",
      "  warnings.warn(\n"
     ]
    },
    {
     "data": {
      "text/plain": [
       "Text(0, 0.5, 'Cholesterol')"
      ]
     },
     "execution_count": 29,
     "metadata": {},
     "output_type": "execute_result"
    },
    {
     "data": {
      "image/png": "[encoded data removed]",
      "text/plain": [
       "<Figure size 432x288 with 1 Axes>"
      ]
     },
     "metadata": {
      "needs_background": "light"
     },
     "output_type": "display_data"
    }
   ],
   "source": [
    "sns.scatterplot('Calories','Cholesterol',data=df_cleaned)\n",
    "plt.title('Calories vs Cholesterol', fontsize=18)\n",
    "plt.xlabel('Calories', fontsize=16)\n",
    "plt.ylabel('Cholesterol', fontsize=16)"
   ]
  },
  {
   "cell_type": "code",
   "execution_count": 30,
   "metadata": {
    "scrolled": false
   },
   "outputs": [
    {
     "name": "stderr",
     "output_type": "stream",
     "text": [
      "C:\\Users\\cynthia\\anaconda3\\lib\\site-packages\\seaborn\\_decorators.py:36: FutureWarning: Pass the following variables as keyword args: x, y. From version 0.12, the only valid positional argument will be `data`, and passing other arguments without an explicit keyword will result in an error or misinterpretation.\n",
      "  warnings.warn(\n"
     ]
    },
    {
     "data": {
      "text/plain": [
       "Text(0, 0.5, 'Sodium')"
      ]
     },
     "execution_count": 30,
     "metadata": {},
     "output_type": "execute_result"
    },
    {
     "data": {
      "image/png": "[encoded data removed]",
      "text/plain": [
       "<Figure size 432x288 with 1 Axes>"
      ]
     },
     "metadata": {
      "needs_background": "light"
     },
     "output_type": "display_data"
    }
   ],
   "source": [
    "sns.scatterplot('Protein','Sodium',data=df_cleaned)\n",
    "plt.title('Protein vs Sodium', fontsize=18)\n",
    "plt.xlabel('Protein', fontsize=16)\n",
    "plt.ylabel('Sodium', fontsize=16)"
   ]
  },
  {
   "cell_type": "code",
   "execution_count": 31,
   "metadata": {},
   "outputs": [
    {
     "name": "stderr",
     "output_type": "stream",
     "text": [
      "C:\\Users\\cynthia\\anaconda3\\lib\\site-packages\\seaborn\\_decorators.py:36: FutureWarning: Pass the following variables as keyword args: x, y. From version 0.12, the only valid positional argument will be `data`, and passing other arguments without an explicit keyword will result in an error or misinterpretation.\n",
      "  warnings.warn(\n"
     ]
    },
    {
     "data": {
      "text/plain": [
       "Text(0, 0.5, 'Total Fat')"
      ]
     },
     "execution_count": 31,
     "metadata": {},
     "output_type": "execute_result"
    },
    {
     "data": {
      "image/png": "[encoded data removed]",
      "text/plain": [
       "<Figure size 432x288 with 1 Axes>"
      ]
     },
     "metadata": {
      "needs_background": "light"
     },
     "output_type": "display_data"
    }
   ],
   "source": [
    "sns.scatterplot('Cholesterol','Total Fat',data=df_cleaned)\n",
    "plt.title('Cholesterol vs Total Fat', fontsize=18)\n",
    "plt.xlabel('Cholesterol', fontsize=16)\n",
    "plt.ylabel('Total Fat', fontsize=16)"
   ]
  },
  {
   "cell_type": "code",
   "execution_count": 32,
   "metadata": {},
   "outputs": [
    {
     "name": "stderr",
     "output_type": "stream",
     "text": [
      "C:\\Users\\cynthia\\anaconda3\\lib\\site-packages\\seaborn\\_decorators.py:36: FutureWarning: Pass the following variables as keyword args: x, y. From version 0.12, the only valid positional argument will be `data`, and passing other arguments without an explicit keyword will result in an error or misinterpretation.\n",
      "  warnings.warn(\n"
     ]
    },
    {
     "data": {
      "text/plain": [
       "Text(0, 0.5, 'Sugars')"
      ]
     },
     "execution_count": 32,
     "metadata": {},
     "output_type": "execute_result"
    },
    {
     "data": {
      "image/png": "[encoded data removed]",
      "text/plain": [
       "<Figure size 432x288 with 1 Axes>"
      ]
     },
     "metadata": {
      "needs_background": "light"
     },
     "output_type": "display_data"
    }
   ],
   "source": [
    "sns.scatterplot('Carbohydrates','Sugars',data=df_cleaned)\n",
    "plt.title('Carbohydrates vs Sugars', fontsize=18)\n",
    "plt.xlabel('Carbohydrates', fontsize=16)\n",
    "plt.ylabel('Sugars', fontsize=16)"
   ]
  },
  {
   "cell_type": "code",
   "execution_count": 33,
   "metadata": {
    "scrolled": false
   },
   "outputs": [
    {
     "name": "stderr",
     "output_type": "stream",
     "text": [
      "C:\\Users\\cynthia\\anaconda3\\lib\\site-packages\\seaborn\\_decorators.py:36: FutureWarning: Pass the following variables as keyword args: x, y. From version 0.12, the only valid positional argument will be `data`, and passing other arguments without an explicit keyword will result in an error or misinterpretation.\n",
      "  warnings.warn(\n"
     ]
    },
    {
     "data": {
      "text/plain": [
       "Text(0, 0.5, 'Total Fat')"
      ]
     },
     "execution_count": 33,
     "metadata": {},
     "output_type": "execute_result"
    },
    {
     "data": {
      "image/png": "[encoded data removed]",
      "text/plain": [
       "<Figure size 432x288 with 1 Axes>"
      ]
     },
     "metadata": {
      "needs_background": "light"
     },
     "output_type": "display_data"
    }
   ],
   "source": [
    "sns.scatterplot('Saturated Fat','Total Fat',data=df_cleaned)\n",
    "plt.title('Saturated Fat vs Total Fat', fontsize=18)\n",
    "plt.xlabel('Saturated Fat', fontsize=16)\n",
    "plt.ylabel('Total Fat', fontsize=16)"
   ]
  },
  {
   "cell_type": "code",
   "execution_count": 34,
   "metadata": {},
   "outputs": [
    {
     "name": "stderr",
     "output_type": "stream",
     "text": [
      "C:\\Users\\cynthia\\anaconda3\\lib\\site-packages\\seaborn\\_decorators.py:36: FutureWarning: Pass the following variables as keyword args: x, y. From version 0.12, the only valid positional argument will be `data`, and passing other arguments without an explicit keyword will result in an error or misinterpretation.\n",
      "  warnings.warn(\n"
     ]
    },
    {
     "data": {
      "text/plain": [
       "Text(0, 0.5, 'Vitamin C (% Daily Value)')"
      ]
     },
     "execution_count": 34,
     "metadata": {},
     "output_type": "execute_result"
    },
    {
     "data": {
      "image/png": "[encoded data removed]",
      "text/plain": [
       "<Figure size 432x288 with 1 Axes>"
      ]
     },
     "metadata": {
      "needs_background": "light"
     },
     "output_type": "display_data"
    }
   ],
   "source": [
    "sns.scatterplot('Vitamin A (% Daily Value)','Vitamin C (% Daily Value)',data=df_cleaned)\n",
    "plt.title('Vitamin A (% Daily Value) vs Vitamin C (% Daily Value)', fontsize=18)\n",
    "plt.xlabel('Vitamin A (% Daily Value)', fontsize=14)\n",
    "plt.ylabel('Vitamin C (% Daily Value)', fontsize=14)"
   ]
  },
  {
   "cell_type": "code",
   "execution_count": 35,
   "metadata": {},
   "outputs": [
    {
     "name": "stderr",
     "output_type": "stream",
     "text": [
      "C:\\Users\\cynthia\\anaconda3\\lib\\site-packages\\seaborn\\_decorators.py:36: FutureWarning: Pass the following variables as keyword args: x, y. From version 0.12, the only valid positional argument will be `data`, and passing other arguments without an explicit keyword will result in an error or misinterpretation.\n",
      "  warnings.warn(\n"
     ]
    },
    {
     "data": {
      "text/plain": [
       "Text(0, 0.5, 'Iron (% Daily Value)')"
      ]
     },
     "execution_count": 35,
     "metadata": {},
     "output_type": "execute_result"
    },
    {
     "data": {
      "image/png": "[encoded data removed]",
      "text/plain": [
       "<Figure size 432x288 with 1 Axes>"
      ]
     },
     "metadata": {
      "needs_background": "light"
     },
     "output_type": "display_data"
    }
   ],
   "source": [
    "sns.scatterplot('Calcium (% Daily Value)','Iron (% Daily Value)',data=df_cleaned)\n",
    "plt.title('Calcium (% Daily Value) vs Iron (% Daily Value)', fontsize=18)\n",
    "plt.xlabel('Calcium (% Daily Value)', fontsize=14)\n",
    "plt.ylabel('Iron (% Daily Value)', fontsize=14)"
   ]
  },
  {
   "cell_type": "code",
   "execution_count": 36,
   "metadata": {
    "scrolled": true
   },
   "outputs": [
    {
     "data": {
      "text/html": [
       "<div>\n",
       "<style scoped>\n",
       "    .dataframe tbody tr th:only-of-type {\n",
       "        vertical-align: middle;\n",
       "    }\n",
       "\n",
       "    .dataframe tbody tr th {\n",
       "        vertical-align: top;\n",
       "    }\n",
       "\n",
       "    .dataframe thead th {\n",
       "        text-align: right;\n",
       "    }\n",
       "</style>\n",
       "<table border=\"1\" class=\"dataframe\">\n",
       "  <thead>\n",
       "    <tr style=\"text-align: right;\">\n",
       "      <th></th>\n",
       "      <th>Calories</th>\n",
       "      <th>Calories from Fat</th>\n",
       "      <th>Total Fat</th>\n",
       "      <th>Total Fat (% Daily Value)</th>\n",
       "      <th>Saturated Fat</th>\n",
       "      <th>Saturated Fat (% Daily Value)</th>\n",
       "      <th>Trans Fat</th>\n",
       "      <th>Cholesterol</th>\n",
       "      <th>Cholesterol (% Daily Value)</th>\n",
       "      <th>Sodium</th>\n",
       "      <th>...</th>\n",
       "      <th>Carbohydrates</th>\n",
       "      <th>Carbohydrates (% Daily Value)</th>\n",
       "      <th>Dietary Fiber</th>\n",
       "      <th>Dietary Fiber (% Daily Value)</th>\n",
       "      <th>Sugars</th>\n",
       "      <th>Protein</th>\n",
       "      <th>Vitamin A (% Daily Value)</th>\n",
       "      <th>Vitamin C (% Daily Value)</th>\n",
       "      <th>Calcium (% Daily Value)</th>\n",
       "      <th>Iron (% Daily Value)</th>\n",
       "    </tr>\n",
       "  </thead>\n",
       "  <tbody>\n",
       "    <tr>\n",
       "      <th>Calories</th>\n",
       "      <td>1.000000</td>\n",
       "      <td>0.875767</td>\n",
       "      <td>0.880017</td>\n",
       "      <td>0.879786</td>\n",
       "      <td>0.838460</td>\n",
       "      <td>0.841876</td>\n",
       "      <td>0.634304</td>\n",
       "      <td>0.828763</td>\n",
       "      <td>0.819572</td>\n",
       "      <td>0.763818</td>\n",
       "      <td>...</td>\n",
       "      <td>0.746070</td>\n",
       "      <td>0.743297</td>\n",
       "      <td>0.520288</td>\n",
       "      <td>0.535013</td>\n",
       "      <td>0.341675</td>\n",
       "      <td>0.762172</td>\n",
       "      <td>0.480717</td>\n",
       "      <td>0.159674</td>\n",
       "      <td>0.568252</td>\n",
       "      <td>0.649734</td>\n",
       "    </tr>\n",
       "    <tr>\n",
       "      <th>Calories from Fat</th>\n",
       "      <td>0.875767</td>\n",
       "      <td>1.000000</td>\n",
       "      <td>0.997877</td>\n",
       "      <td>0.997645</td>\n",
       "      <td>0.915868</td>\n",
       "      <td>0.918920</td>\n",
       "      <td>0.561315</td>\n",
       "      <td>0.865898</td>\n",
       "      <td>0.860208</td>\n",
       "      <td>0.808321</td>\n",
       "      <td>...</td>\n",
       "      <td>0.391484</td>\n",
       "      <td>0.389159</td>\n",
       "      <td>0.543407</td>\n",
       "      <td>0.542492</td>\n",
       "      <td>-0.018922</td>\n",
       "      <td>0.713903</td>\n",
       "      <td>0.317940</td>\n",
       "      <td>0.231254</td>\n",
       "      <td>0.356876</td>\n",
       "      <td>0.697649</td>\n",
       "    </tr>\n",
       "    <tr>\n",
       "      <th>Total Fat</th>\n",
       "      <td>0.880017</td>\n",
       "      <td>0.997877</td>\n",
       "      <td>1.000000</td>\n",
       "      <td>0.999550</td>\n",
       "      <td>0.914084</td>\n",
       "      <td>0.917172</td>\n",
       "      <td>0.558818</td>\n",
       "      <td>0.866616</td>\n",
       "      <td>0.860893</td>\n",
       "      <td>0.815878</td>\n",
       "      <td>...</td>\n",
       "      <td>0.398579</td>\n",
       "      <td>0.396358</td>\n",
       "      <td>0.548949</td>\n",
       "      <td>0.551289</td>\n",
       "      <td>-0.012164</td>\n",
       "      <td>0.724780</td>\n",
       "      <td>0.327270</td>\n",
       "      <td>0.222395</td>\n",
       "      <td>0.373906</td>\n",
       "      <td>0.700962</td>\n",
       "    </tr>\n",
       "    <tr>\n",
       "      <th>Total Fat (% Daily Value)</th>\n",
       "      <td>0.879786</td>\n",
       "      <td>0.997645</td>\n",
       "      <td>0.999550</td>\n",
       "      <td>1.000000</td>\n",
       "      <td>0.915704</td>\n",
       "      <td>0.918786</td>\n",
       "      <td>0.560498</td>\n",
       "      <td>0.868832</td>\n",
       "      <td>0.863188</td>\n",
       "      <td>0.817264</td>\n",
       "      <td>...</td>\n",
       "      <td>0.397553</td>\n",
       "      <td>0.395318</td>\n",
       "      <td>0.547619</td>\n",
       "      <td>0.550809</td>\n",
       "      <td>-0.012231</td>\n",
       "      <td>0.726312</td>\n",
       "      <td>0.328410</td>\n",
       "      <td>0.223454</td>\n",
       "      <td>0.373560</td>\n",
       "      <td>0.702952</td>\n",
       "    </tr>\n",
       "    <tr>\n",
       "      <th>Saturated Fat</th>\n",
       "      <td>0.838460</td>\n",
       "      <td>0.915868</td>\n",
       "      <td>0.914084</td>\n",
       "      <td>0.915704</td>\n",
       "      <td>1.000000</td>\n",
       "      <td>0.999220</td>\n",
       "      <td>0.657684</td>\n",
       "      <td>0.859315</td>\n",
       "      <td>0.857675</td>\n",
       "      <td>0.648665</td>\n",
       "      <td>...</td>\n",
       "      <td>0.456977</td>\n",
       "      <td>0.457065</td>\n",
       "      <td>0.330082</td>\n",
       "      <td>0.332807</td>\n",
       "      <td>0.201596</td>\n",
       "      <td>0.598862</td>\n",
       "      <td>0.434881</td>\n",
       "      <td>-0.009816</td>\n",
       "      <td>0.502195</td>\n",
       "      <td>0.510887</td>\n",
       "    </tr>\n",
       "    <tr>\n",
       "      <th>Saturated Fat (% Daily Value)</th>\n",
       "      <td>0.841876</td>\n",
       "      <td>0.918920</td>\n",
       "      <td>0.917172</td>\n",
       "      <td>0.918786</td>\n",
       "      <td>0.999220</td>\n",
       "      <td>1.000000</td>\n",
       "      <td>0.659481</td>\n",
       "      <td>0.861443</td>\n",
       "      <td>0.859663</td>\n",
       "      <td>0.655841</td>\n",
       "      <td>...</td>\n",
       "      <td>0.456201</td>\n",
       "      <td>0.456151</td>\n",
       "      <td>0.337583</td>\n",
       "      <td>0.339245</td>\n",
       "      <td>0.197190</td>\n",
       "      <td>0.605990</td>\n",
       "      <td>0.434570</td>\n",
       "      <td>-0.005690</td>\n",
       "      <td>0.502063</td>\n",
       "      <td>0.517755</td>\n",
       "    </tr>\n",
       "    <tr>\n",
       "      <th>Trans Fat</th>\n",
       "      <td>0.634304</td>\n",
       "      <td>0.561315</td>\n",
       "      <td>0.558818</td>\n",
       "      <td>0.560498</td>\n",
       "      <td>0.657684</td>\n",
       "      <td>0.659481</td>\n",
       "      <td>1.000000</td>\n",
       "      <td>0.639224</td>\n",
       "      <td>0.637160</td>\n",
       "      <td>0.332385</td>\n",
       "      <td>...</td>\n",
       "      <td>0.473942</td>\n",
       "      <td>0.474122</td>\n",
       "      <td>0.092858</td>\n",
       "      <td>0.108056</td>\n",
       "      <td>0.336953</td>\n",
       "      <td>0.392005</td>\n",
       "      <td>0.438507</td>\n",
       "      <td>0.007014</td>\n",
       "      <td>0.437305</td>\n",
       "      <td>0.279805</td>\n",
       "    </tr>\n",
       "    <tr>\n",
       "      <th>Cholesterol</th>\n",
       "      <td>0.828763</td>\n",
       "      <td>0.865898</td>\n",
       "      <td>0.866616</td>\n",
       "      <td>0.868832</td>\n",
       "      <td>0.859315</td>\n",
       "      <td>0.861443</td>\n",
       "      <td>0.639224</td>\n",
       "      <td>1.000000</td>\n",
       "      <td>0.998433</td>\n",
       "      <td>0.758269</td>\n",
       "      <td>...</td>\n",
       "      <td>0.404005</td>\n",
       "      <td>0.402403</td>\n",
       "      <td>0.417867</td>\n",
       "      <td>0.437474</td>\n",
       "      <td>0.131970</td>\n",
       "      <td>0.793490</td>\n",
       "      <td>0.538007</td>\n",
       "      <td>0.161862</td>\n",
       "      <td>0.545823</td>\n",
       "      <td>0.628592</td>\n",
       "    </tr>\n",
       "    <tr>\n",
       "      <th>Cholesterol (% Daily Value)</th>\n",
       "      <td>0.819572</td>\n",
       "      <td>0.860208</td>\n",
       "      <td>0.860893</td>\n",
       "      <td>0.863188</td>\n",
       "      <td>0.857675</td>\n",
       "      <td>0.859663</td>\n",
       "      <td>0.637160</td>\n",
       "      <td>0.998433</td>\n",
       "      <td>1.000000</td>\n",
       "      <td>0.748140</td>\n",
       "      <td>...</td>\n",
       "      <td>0.395070</td>\n",
       "      <td>0.393549</td>\n",
       "      <td>0.408047</td>\n",
       "      <td>0.428421</td>\n",
       "      <td>0.131996</td>\n",
       "      <td>0.787829</td>\n",
       "      <td>0.541116</td>\n",
       "      <td>0.153661</td>\n",
       "      <td>0.548718</td>\n",
       "      <td>0.614080</td>\n",
       "    </tr>\n",
       "    <tr>\n",
       "      <th>Sodium</th>\n",
       "      <td>0.763818</td>\n",
       "      <td>0.808321</td>\n",
       "      <td>0.815878</td>\n",
       "      <td>0.817264</td>\n",
       "      <td>0.648665</td>\n",
       "      <td>0.655841</td>\n",
       "      <td>0.332385</td>\n",
       "      <td>0.758269</td>\n",
       "      <td>0.748140</td>\n",
       "      <td>1.000000</td>\n",
       "      <td>...</td>\n",
       "      <td>0.278982</td>\n",
       "      <td>0.276229</td>\n",
       "      <td>0.720347</td>\n",
       "      <td>0.729210</td>\n",
       "      <td>-0.177074</td>\n",
       "      <td>0.910916</td>\n",
       "      <td>0.337577</td>\n",
       "      <td>0.334868</td>\n",
       "      <td>0.409937</td>\n",
       "      <td>0.846880</td>\n",
       "    </tr>\n",
       "    <tr>\n",
       "      <th>Sodium (% Daily Value)</th>\n",
       "      <td>0.764047</td>\n",
       "      <td>0.807113</td>\n",
       "      <td>0.814021</td>\n",
       "      <td>0.815469</td>\n",
       "      <td>0.647764</td>\n",
       "      <td>0.655047</td>\n",
       "      <td>0.334904</td>\n",
       "      <td>0.758798</td>\n",
       "      <td>0.749009</td>\n",
       "      <td>0.998393</td>\n",
       "      <td>...</td>\n",
       "      <td>0.278983</td>\n",
       "      <td>0.276142</td>\n",
       "      <td>0.716979</td>\n",
       "      <td>0.724623</td>\n",
       "      <td>-0.175760</td>\n",
       "      <td>0.911835</td>\n",
       "      <td>0.338242</td>\n",
       "      <td>0.334971</td>\n",
       "      <td>0.411276</td>\n",
       "      <td>0.841502</td>\n",
       "    </tr>\n",
       "    <tr>\n",
       "      <th>Carbohydrates</th>\n",
       "      <td>0.746070</td>\n",
       "      <td>0.391484</td>\n",
       "      <td>0.398579</td>\n",
       "      <td>0.397553</td>\n",
       "      <td>0.456977</td>\n",
       "      <td>0.456201</td>\n",
       "      <td>0.473942</td>\n",
       "      <td>0.404005</td>\n",
       "      <td>0.395070</td>\n",
       "      <td>0.278982</td>\n",
       "      <td>...</td>\n",
       "      <td>1.000000</td>\n",
       "      <td>0.999265</td>\n",
       "      <td>0.214977</td>\n",
       "      <td>0.231887</td>\n",
       "      <td>0.794276</td>\n",
       "      <td>0.342205</td>\n",
       "      <td>0.468280</td>\n",
       "      <td>-0.051658</td>\n",
       "      <td>0.558217</td>\n",
       "      <td>0.229341</td>\n",
       "    </tr>\n",
       "    <tr>\n",
       "      <th>Carbohydrates (% Daily Value)</th>\n",
       "      <td>0.743297</td>\n",
       "      <td>0.389159</td>\n",
       "      <td>0.396358</td>\n",
       "      <td>0.395318</td>\n",
       "      <td>0.457065</td>\n",
       "      <td>0.456151</td>\n",
       "      <td>0.474122</td>\n",
       "      <td>0.402403</td>\n",
       "      <td>0.393549</td>\n",
       "      <td>0.276229</td>\n",
       "      <td>...</td>\n",
       "      <td>0.999265</td>\n",
       "      <td>1.000000</td>\n",
       "      <td>0.211896</td>\n",
       "      <td>0.228583</td>\n",
       "      <td>0.796320</td>\n",
       "      <td>0.338579</td>\n",
       "      <td>0.468826</td>\n",
       "      <td>-0.054139</td>\n",
       "      <td>0.559023</td>\n",
       "      <td>0.227161</td>\n",
       "    </tr>\n",
       "    <tr>\n",
       "      <th>Dietary Fiber</th>\n",
       "      <td>0.520288</td>\n",
       "      <td>0.543407</td>\n",
       "      <td>0.548949</td>\n",
       "      <td>0.547619</td>\n",
       "      <td>0.330082</td>\n",
       "      <td>0.337583</td>\n",
       "      <td>0.092858</td>\n",
       "      <td>0.417867</td>\n",
       "      <td>0.408047</td>\n",
       "      <td>0.720347</td>\n",
       "      <td>...</td>\n",
       "      <td>0.214977</td>\n",
       "      <td>0.211896</td>\n",
       "      <td>1.000000</td>\n",
       "      <td>0.975319</td>\n",
       "      <td>-0.193803</td>\n",
       "      <td>0.663319</td>\n",
       "      <td>0.187929</td>\n",
       "      <td>0.561403</td>\n",
       "      <td>0.218648</td>\n",
       "      <td>0.825539</td>\n",
       "    </tr>\n",
       "    <tr>\n",
       "      <th>Dietary Fiber (% Daily Value)</th>\n",
       "      <td>0.535013</td>\n",
       "      <td>0.542492</td>\n",
       "      <td>0.551289</td>\n",
       "      <td>0.550809</td>\n",
       "      <td>0.332807</td>\n",
       "      <td>0.339245</td>\n",
       "      <td>0.108056</td>\n",
       "      <td>0.437474</td>\n",
       "      <td>0.428421</td>\n",
       "      <td>0.729210</td>\n",
       "      <td>...</td>\n",
       "      <td>0.231887</td>\n",
       "      <td>0.228583</td>\n",
       "      <td>0.975319</td>\n",
       "      <td>1.000000</td>\n",
       "      <td>-0.182172</td>\n",
       "      <td>0.692893</td>\n",
       "      <td>0.220318</td>\n",
       "      <td>0.568532</td>\n",
       "      <td>0.238283</td>\n",
       "      <td>0.832014</td>\n",
       "    </tr>\n",
       "    <tr>\n",
       "      <th>Sugars</th>\n",
       "      <td>0.341675</td>\n",
       "      <td>-0.018922</td>\n",
       "      <td>-0.012164</td>\n",
       "      <td>-0.012231</td>\n",
       "      <td>0.201596</td>\n",
       "      <td>0.197190</td>\n",
       "      <td>0.336953</td>\n",
       "      <td>0.131970</td>\n",
       "      <td>0.131996</td>\n",
       "      <td>-0.177074</td>\n",
       "      <td>...</td>\n",
       "      <td>0.794276</td>\n",
       "      <td>0.796320</td>\n",
       "      <td>-0.193803</td>\n",
       "      <td>-0.182172</td>\n",
       "      <td>1.000000</td>\n",
       "      <td>-0.014956</td>\n",
       "      <td>0.476280</td>\n",
       "      <td>-0.352322</td>\n",
       "      <td>0.566170</td>\n",
       "      <td>-0.218391</td>\n",
       "    </tr>\n",
       "    <tr>\n",
       "      <th>Protein</th>\n",
       "      <td>0.762172</td>\n",
       "      <td>0.713903</td>\n",
       "      <td>0.724780</td>\n",
       "      <td>0.726312</td>\n",
       "      <td>0.598862</td>\n",
       "      <td>0.605990</td>\n",
       "      <td>0.392005</td>\n",
       "      <td>0.793490</td>\n",
       "      <td>0.787829</td>\n",
       "      <td>0.910916</td>\n",
       "      <td>...</td>\n",
       "      <td>0.342205</td>\n",
       "      <td>0.338579</td>\n",
       "      <td>0.663319</td>\n",
       "      <td>0.692893</td>\n",
       "      <td>-0.014956</td>\n",
       "      <td>1.000000</td>\n",
       "      <td>0.502815</td>\n",
       "      <td>0.312522</td>\n",
       "      <td>0.597484</td>\n",
       "      <td>0.755836</td>\n",
       "    </tr>\n",
       "    <tr>\n",
       "      <th>Vitamin A (% Daily Value)</th>\n",
       "      <td>0.480717</td>\n",
       "      <td>0.317940</td>\n",
       "      <td>0.327270</td>\n",
       "      <td>0.328410</td>\n",
       "      <td>0.434881</td>\n",
       "      <td>0.434570</td>\n",
       "      <td>0.438507</td>\n",
       "      <td>0.538007</td>\n",
       "      <td>0.541116</td>\n",
       "      <td>0.337577</td>\n",
       "      <td>...</td>\n",
       "      <td>0.468280</td>\n",
       "      <td>0.468826</td>\n",
       "      <td>0.187929</td>\n",
       "      <td>0.220318</td>\n",
       "      <td>0.476280</td>\n",
       "      <td>0.502815</td>\n",
       "      <td>1.000000</td>\n",
       "      <td>-0.068270</td>\n",
       "      <td>0.778941</td>\n",
       "      <td>0.210284</td>\n",
       "    </tr>\n",
       "    <tr>\n",
       "      <th>Vitamin C (% Daily Value)</th>\n",
       "      <td>0.159674</td>\n",
       "      <td>0.231254</td>\n",
       "      <td>0.222395</td>\n",
       "      <td>0.223454</td>\n",
       "      <td>-0.009816</td>\n",
       "      <td>-0.005690</td>\n",
       "      <td>0.007014</td>\n",
       "      <td>0.161862</td>\n",
       "      <td>0.153661</td>\n",
       "      <td>0.334868</td>\n",
       "      <td>...</td>\n",
       "      <td>-0.051658</td>\n",
       "      <td>-0.054139</td>\n",
       "      <td>0.561403</td>\n",
       "      <td>0.568532</td>\n",
       "      <td>-0.352322</td>\n",
       "      <td>0.312522</td>\n",
       "      <td>-0.068270</td>\n",
       "      <td>1.000000</td>\n",
       "      <td>-0.231159</td>\n",
       "      <td>0.492287</td>\n",
       "    </tr>\n",
       "    <tr>\n",
       "      <th>Calcium (% Daily Value)</th>\n",
       "      <td>0.568252</td>\n",
       "      <td>0.356876</td>\n",
       "      <td>0.373906</td>\n",
       "      <td>0.373560</td>\n",
       "      <td>0.502195</td>\n",
       "      <td>0.502063</td>\n",
       "      <td>0.437305</td>\n",
       "      <td>0.545823</td>\n",
       "      <td>0.548718</td>\n",
       "      <td>0.409937</td>\n",
       "      <td>...</td>\n",
       "      <td>0.558217</td>\n",
       "      <td>0.559023</td>\n",
       "      <td>0.218648</td>\n",
       "      <td>0.238283</td>\n",
       "      <td>0.566170</td>\n",
       "      <td>0.597484</td>\n",
       "      <td>0.778941</td>\n",
       "      <td>-0.231159</td>\n",
       "      <td>1.000000</td>\n",
       "      <td>0.208254</td>\n",
       "    </tr>\n",
       "    <tr>\n",
       "      <th>Iron (% Daily Value)</th>\n",
       "      <td>0.649734</td>\n",
       "      <td>0.697649</td>\n",
       "      <td>0.700962</td>\n",
       "      <td>0.702952</td>\n",
       "      <td>0.510887</td>\n",
       "      <td>0.517755</td>\n",
       "      <td>0.279805</td>\n",
       "      <td>0.628592</td>\n",
       "      <td>0.614080</td>\n",
       "      <td>0.846880</td>\n",
       "      <td>...</td>\n",
       "      <td>0.229341</td>\n",
       "      <td>0.227161</td>\n",
       "      <td>0.825539</td>\n",
       "      <td>0.832014</td>\n",
       "      <td>-0.218391</td>\n",
       "      <td>0.755836</td>\n",
       "      <td>0.210284</td>\n",
       "      <td>0.492287</td>\n",
       "      <td>0.208254</td>\n",
       "      <td>1.000000</td>\n",
       "    </tr>\n",
       "  </tbody>\n",
       "</table>\n",
       "<p>21 rows × 21 columns</p>\n",
       "</div>"
      ],
      "text/plain": [
       "                               Calories  Calories from Fat  Total Fat  \\\n",
       "Calories                       1.000000           0.875767   0.880017   \n",
       "Calories from Fat              0.875767           1.000000   0.997877   \n",
       "Total Fat                      0.880017           0.997877   1.000000   \n",
       "Total Fat (% Daily Value)      0.879786           0.997645   0.999550   \n",
       "Saturated Fat                  0.838460           0.915868   0.914084   \n",
       "Saturated Fat (% Daily Value)  0.841876           0.918920   0.917172   \n",
       "Trans Fat                      0.634304           0.561315   0.558818   \n",
       "Cholesterol                    0.828763           0.865898   0.866616   \n",
       "Cholesterol (% Daily Value)    0.819572           0.860208   0.860893   \n",
       "Sodium                         0.763818           0.808321   0.815878   \n",
       "Sodium (% Daily Value)         0.764047           0.807113   0.814021   \n",
       "Carbohydrates                  0.746070           0.391484   0.398579   \n",
       "Carbohydrates (% Daily Value)  0.743297           0.389159   0.396358   \n",
       "Dietary Fiber                  0.520288           0.543407   0.548949   \n",
       "Dietary Fiber (% Daily Value)  0.535013           0.542492   0.551289   \n",
       "Sugars                         0.341675          -0.018922  -0.012164   \n",
       "Protein                        0.762172           0.713903   0.724780   \n",
       "Vitamin A (% Daily Value)      0.480717           0.317940   0.327270   \n",
       "Vitamin C (% Daily Value)      0.159674           0.231254   0.222395   \n",
       "Calcium (% Daily Value)        0.568252           0.356876   0.373906   \n",
       "Iron (% Daily Value)           0.649734           0.697649   0.700962   \n",
       "\n",
       "                               Total Fat (% Daily Value)  Saturated Fat  \\\n",
       "Calories                                        0.879786       0.838460   \n",
       "Calories from Fat                               0.997645       0.915868   \n",
       "Total Fat                                       0.999550       0.914084   \n",
       "Total Fat (% Daily Value)                       1.000000       0.915704   \n",
       "Saturated Fat                                   0.915704       1.000000   \n",
       "Saturated Fat (% Daily Value)                   0.918786       0.999220   \n",
       "Trans Fat                                       0.560498       0.657684   \n",
       "Cholesterol                                     0.868832       0.859315   \n",
       "Cholesterol (% Daily Value)                     0.863188       0.857675   \n",
       "Sodium                                          0.817264       0.648665   \n",
       "Sodium (% Daily Value)                          0.815469       0.647764   \n",
       "Carbohydrates                                   0.397553       0.456977   \n",
       "Carbohydrates (% Daily Value)                   0.395318       0.457065   \n",
       "Dietary Fiber                                   0.547619       0.330082   \n",
       "Dietary Fiber (% Daily Value)                   0.550809       0.332807   \n",
       "Sugars                                         -0.012231       0.201596   \n",
       "Protein                                         0.726312       0.598862   \n",
       "Vitamin A (% Daily Value)                       0.328410       0.434881   \n",
       "Vitamin C (% Daily Value)                       0.223454      -0.009816   \n",
       "Calcium (% Daily Value)                         0.373560       0.502195   \n",
       "Iron (% Daily Value)                            0.702952       0.510887   \n",
       "\n",
       "                               Saturated Fat (% Daily Value)  Trans Fat  \\\n",
       "Calories                                            0.841876   0.634304   \n",
       "Calories from Fat                                   0.918920   0.561315   \n",
       "Total Fat                                           0.917172   0.558818   \n",
       "Total Fat (% Daily Value)                           0.918786   0.560498   \n",
       "Saturated Fat                                       0.999220   0.657684   \n",
       "Saturated Fat (% Daily Value)                       1.000000   0.659481   \n",
       "Trans Fat                                           0.659481   1.000000   \n",
       "Cholesterol                                         0.861443   0.639224   \n",
       "Cholesterol (% Daily Value)                         0.859663   0.637160   \n",
       "Sodium                                              0.655841   0.332385   \n",
       "Sodium (% Daily Value)                              0.655047   0.334904   \n",
       "Carbohydrates                                       0.456201   0.473942   \n",
       "Carbohydrates (% Daily Value)                       0.456151   0.474122   \n",
       "Dietary Fiber                                       0.337583   0.092858   \n",
       "Dietary Fiber (% Daily Value)                       0.339245   0.108056   \n",
       "Sugars                                              0.197190   0.336953   \n",
       "Protein                                             0.605990   0.392005   \n",
       "Vitamin A (% Daily Value)                           0.434570   0.438507   \n",
       "Vitamin C (% Daily Value)                          -0.005690   0.007014   \n",
       "Calcium (% Daily Value)                             0.502063   0.437305   \n",
       "Iron (% Daily Value)                                0.517755   0.279805   \n",
       "\n",
       "                               Cholesterol  Cholesterol (% Daily Value)  \\\n",
       "Calories                          0.828763                     0.819572   \n",
       "Calories from Fat                 0.865898                     0.860208   \n",
       "Total Fat                         0.866616                     0.860893   \n",
       "Total Fat (% Daily Value)         0.868832                     0.863188   \n",
       "Saturated Fat                     0.859315                     0.857675   \n",
       "Saturated Fat (% Daily Value)     0.861443                     0.859663   \n",
       "Trans Fat                         0.639224                     0.637160   \n",
       "Cholesterol                       1.000000                     0.998433   \n",
       "Cholesterol (% Daily Value)       0.998433                     1.000000   \n",
       "Sodium                            0.758269                     0.748140   \n",
       "Sodium (% Daily Value)            0.758798                     0.749009   \n",
       "Carbohydrates                     0.404005                     0.395070   \n",
       "Carbohydrates (% Daily Value)     0.402403                     0.393549   \n",
       "Dietary Fiber                     0.417867                     0.408047   \n",
       "Dietary Fiber (% Daily Value)     0.437474                     0.428421   \n",
       "Sugars                            0.131970                     0.131996   \n",
       "Protein                           0.793490                     0.787829   \n",
       "Vitamin A (% Daily Value)         0.538007                     0.541116   \n",
       "Vitamin C (% Daily Value)         0.161862                     0.153661   \n",
       "Calcium (% Daily Value)           0.545823                     0.548718   \n",
       "Iron (% Daily Value)              0.628592                     0.614080   \n",
       "\n",
       "                                 Sodium  ...  Carbohydrates  \\\n",
       "Calories                       0.763818  ...       0.746070   \n",
       "Calories from Fat              0.808321  ...       0.391484   \n",
       "Total Fat                      0.815878  ...       0.398579   \n",
       "Total Fat (% Daily Value)      0.817264  ...       0.397553   \n",
       "Saturated Fat                  0.648665  ...       0.456977   \n",
       "Saturated Fat (% Daily Value)  0.655841  ...       0.456201   \n",
       "Trans Fat                      0.332385  ...       0.473942   \n",
       "Cholesterol                    0.758269  ...       0.404005   \n",
       "Cholesterol (% Daily Value)    0.748140  ...       0.395070   \n",
       "Sodium                         1.000000  ...       0.278982   \n",
       "Sodium (% Daily Value)         0.998393  ...       0.278983   \n",
       "Carbohydrates                  0.278982  ...       1.000000   \n",
       "Carbohydrates (% Daily Value)  0.276229  ...       0.999265   \n",
       "Dietary Fiber                  0.720347  ...       0.214977   \n",
       "Dietary Fiber (% Daily Value)  0.729210  ...       0.231887   \n",
       "Sugars                        -0.177074  ...       0.794276   \n",
       "Protein                        0.910916  ...       0.342205   \n",
       "Vitamin A (% Daily Value)      0.337577  ...       0.468280   \n",
       "Vitamin C (% Daily Value)      0.334868  ...      -0.051658   \n",
       "Calcium (% Daily Value)        0.409937  ...       0.558217   \n",
       "Iron (% Daily Value)           0.846880  ...       0.229341   \n",
       "\n",
       "                               Carbohydrates (% Daily Value)  Dietary Fiber  \\\n",
       "Calories                                            0.743297       0.520288   \n",
       "Calories from Fat                                   0.389159       0.543407   \n",
       "Total Fat                                           0.396358       0.548949   \n",
       "Total Fat (% Daily Value)                           0.395318       0.547619   \n",
       "Saturated Fat                                       0.457065       0.330082   \n",
       "Saturated Fat (% Daily Value)                       0.456151       0.337583   \n",
       "Trans Fat                                           0.474122       0.092858   \n",
       "Cholesterol                                         0.402403       0.417867   \n",
       "Cholesterol (% Daily Value)                         0.393549       0.408047   \n",
       "Sodium                                              0.276229       0.720347   \n",
       "Sodium (% Daily Value)                              0.276142       0.716979   \n",
       "Carbohydrates                                       0.999265       0.214977   \n",
       "Carbohydrates (% Daily Value)                       1.000000       0.211896   \n",
       "Dietary Fiber                                       0.211896       1.000000   \n",
       "Dietary Fiber (% Daily Value)                       0.228583       0.975319   \n",
       "Sugars                                              0.796320      -0.193803   \n",
       "Protein                                             0.338579       0.663319   \n",
       "Vitamin A (% Daily Value)                           0.468826       0.187929   \n",
       "Vitamin C (% Daily Value)                          -0.054139       0.561403   \n",
       "Calcium (% Daily Value)                             0.559023       0.218648   \n",
       "Iron (% Daily Value)                                0.227161       0.825539   \n",
       "\n",
       "                               Dietary Fiber (% Daily Value)    Sugars  \\\n",
       "Calories                                            0.535013  0.341675   \n",
       "Calories from Fat                                   0.542492 -0.018922   \n",
       "Total Fat                                           0.551289 -0.012164   \n",
       "Total Fat (% Daily Value)                           0.550809 -0.012231   \n",
       "Saturated Fat                                       0.332807  0.201596   \n",
       "Saturated Fat (% Daily Value)                       0.339245  0.197190   \n",
       "Trans Fat                                           0.108056  0.336953   \n",
       "Cholesterol                                         0.437474  0.131970   \n",
       "Cholesterol (% Daily Value)                         0.428421  0.131996   \n",
       "Sodium                                              0.729210 -0.177074   \n",
       "Sodium (% Daily Value)                              0.724623 -0.175760   \n",
       "Carbohydrates                                       0.231887  0.794276   \n",
       "Carbohydrates (% Daily Value)                       0.228583  0.796320   \n",
       "Dietary Fiber                                       0.975319 -0.193803   \n",
       "Dietary Fiber (% Daily Value)                       1.000000 -0.182172   \n",
       "Sugars                                             -0.182172  1.000000   \n",
       "Protein                                             0.692893 -0.014956   \n",
       "Vitamin A (% Daily Value)                           0.220318  0.476280   \n",
       "Vitamin C (% Daily Value)                           0.568532 -0.352322   \n",
       "Calcium (% Daily Value)                             0.238283  0.566170   \n",
       "Iron (% Daily Value)                                0.832014 -0.218391   \n",
       "\n",
       "                                Protein  Vitamin A (% Daily Value)  \\\n",
       "Calories                       0.762172                   0.480717   \n",
       "Calories from Fat              0.713903                   0.317940   \n",
       "Total Fat                      0.724780                   0.327270   \n",
       "Total Fat (% Daily Value)      0.726312                   0.328410   \n",
       "Saturated Fat                  0.598862                   0.434881   \n",
       "Saturated Fat (% Daily Value)  0.605990                   0.434570   \n",
       "Trans Fat                      0.392005                   0.438507   \n",
       "Cholesterol                    0.793490                   0.538007   \n",
       "Cholesterol (% Daily Value)    0.787829                   0.541116   \n",
       "Sodium                         0.910916                   0.337577   \n",
       "Sodium (% Daily Value)         0.911835                   0.338242   \n",
       "Carbohydrates                  0.342205                   0.468280   \n",
       "Carbohydrates (% Daily Value)  0.338579                   0.468826   \n",
       "Dietary Fiber                  0.663319                   0.187929   \n",
       "Dietary Fiber (% Daily Value)  0.692893                   0.220318   \n",
       "Sugars                        -0.014956                   0.476280   \n",
       "Protein                        1.000000                   0.502815   \n",
       "Vitamin A (% Daily Value)      0.502815                   1.000000   \n",
       "Vitamin C (% Daily Value)      0.312522                  -0.068270   \n",
       "Calcium (% Daily Value)        0.597484                   0.778941   \n",
       "Iron (% Daily Value)           0.755836                   0.210284   \n",
       "\n",
       "                               Vitamin C (% Daily Value)  \\\n",
       "Calories                                        0.159674   \n",
       "Calories from Fat                               0.231254   \n",
       "Total Fat                                       0.222395   \n",
       "Total Fat (% Daily Value)                       0.223454   \n",
       "Saturated Fat                                  -0.009816   \n",
       "Saturated Fat (% Daily Value)                  -0.005690   \n",
       "Trans Fat                                       0.007014   \n",
       "Cholesterol                                     0.161862   \n",
       "Cholesterol (% Daily Value)                     0.153661   \n",
       "Sodium                                          0.334868   \n",
       "Sodium (% Daily Value)                          0.334971   \n",
       "Carbohydrates                                  -0.051658   \n",
       "Carbohydrates (% Daily Value)                  -0.054139   \n",
       "Dietary Fiber                                   0.561403   \n",
       "Dietary Fiber (% Daily Value)                   0.568532   \n",
       "Sugars                                         -0.352322   \n",
       "Protein                                         0.312522   \n",
       "Vitamin A (% Daily Value)                      -0.068270   \n",
       "Vitamin C (% Daily Value)                       1.000000   \n",
       "Calcium (% Daily Value)                        -0.231159   \n",
       "Iron (% Daily Value)                            0.492287   \n",
       "\n",
       "                               Calcium (% Daily Value)  Iron (% Daily Value)  \n",
       "Calories                                      0.568252              0.649734  \n",
       "Calories from Fat                             0.356876              0.697649  \n",
       "Total Fat                                     0.373906              0.700962  \n",
       "Total Fat (% Daily Value)                     0.373560              0.702952  \n",
       "Saturated Fat                                 0.502195              0.510887  \n",
       "Saturated Fat (% Daily Value)                 0.502063              0.517755  \n",
       "Trans Fat                                     0.437305              0.279805  \n",
       "Cholesterol                                   0.545823              0.628592  \n",
       "Cholesterol (% Daily Value)                   0.548718              0.614080  \n",
       "Sodium                                        0.409937              0.846880  \n",
       "Sodium (% Daily Value)                        0.411276              0.841502  \n",
       "Carbohydrates                                 0.558217              0.229341  \n",
       "Carbohydrates (% Daily Value)                 0.559023              0.227161  \n",
       "Dietary Fiber                                 0.218648              0.825539  \n",
       "Dietary Fiber (% Daily Value)                 0.238283              0.832014  \n",
       "Sugars                                        0.566170             -0.218391  \n",
       "Protein                                       0.597484              0.755836  \n",
       "Vitamin A (% Daily Value)                     0.778941              0.210284  \n",
       "Vitamin C (% Daily Value)                    -0.231159              0.492287  \n",
       "Calcium (% Daily Value)                       1.000000              0.208254  \n",
       "Iron (% Daily Value)                          0.208254              1.000000  \n",
       "\n",
       "[21 rows x 21 columns]"
      ]
     },
     "execution_count": 36,
     "metadata": {},
     "output_type": "execute_result"
    }
   ],
   "source": [
    "df_cleaned.corr(method=\"spearman\")"
   ]
  },
  {
   "cell_type": "code",
   "execution_count": 37,
   "metadata": {
    "scrolled": true
   },
   "outputs": [
    {
     "data": {
      "text/html": [
       "<div>\n",
       "<style scoped>\n",
       "    .dataframe tbody tr th:only-of-type {\n",
       "        vertical-align: middle;\n",
       "    }\n",
       "\n",
       "    .dataframe tbody tr th {\n",
       "        vertical-align: top;\n",
       "    }\n",
       "\n",
       "    .dataframe thead th {\n",
       "        text-align: right;\n",
       "    }\n",
       "</style>\n",
       "<table border=\"1\" class=\"dataframe\">\n",
       "  <thead>\n",
       "    <tr style=\"text-align: right;\">\n",
       "      <th></th>\n",
       "      <th>Calories</th>\n",
       "      <th>Calories from Fat</th>\n",
       "      <th>Total Fat</th>\n",
       "      <th>Total Fat (% Daily Value)</th>\n",
       "      <th>Saturated Fat</th>\n",
       "      <th>Saturated Fat (% Daily Value)</th>\n",
       "      <th>Trans Fat</th>\n",
       "      <th>Cholesterol</th>\n",
       "      <th>Cholesterol (% Daily Value)</th>\n",
       "      <th>Sodium</th>\n",
       "      <th>...</th>\n",
       "      <th>Carbohydrates</th>\n",
       "      <th>Carbohydrates (% Daily Value)</th>\n",
       "      <th>Dietary Fiber</th>\n",
       "      <th>Dietary Fiber (% Daily Value)</th>\n",
       "      <th>Sugars</th>\n",
       "      <th>Protein</th>\n",
       "      <th>Vitamin A (% Daily Value)</th>\n",
       "      <th>Vitamin C (% Daily Value)</th>\n",
       "      <th>Calcium (% Daily Value)</th>\n",
       "      <th>Iron (% Daily Value)</th>\n",
       "    </tr>\n",
       "  </thead>\n",
       "  <tbody>\n",
       "    <tr>\n",
       "      <th>Calories</th>\n",
       "      <td>1.000000</td>\n",
       "      <td>0.858945</td>\n",
       "      <td>0.858945</td>\n",
       "      <td>0.858256</td>\n",
       "      <td>0.850022</td>\n",
       "      <td>0.851826</td>\n",
       "      <td>0.645998</td>\n",
       "      <td>0.793396</td>\n",
       "      <td>0.788774</td>\n",
       "      <td>0.556517</td>\n",
       "      <td>...</td>\n",
       "      <td>0.809002</td>\n",
       "      <td>0.808303</td>\n",
       "      <td>0.399548</td>\n",
       "      <td>0.408117</td>\n",
       "      <td>0.456454</td>\n",
       "      <td>0.699335</td>\n",
       "      <td>0.170369</td>\n",
       "      <td>-0.069180</td>\n",
       "      <td>0.569426</td>\n",
       "      <td>0.553594</td>\n",
       "    </tr>\n",
       "    <tr>\n",
       "      <th>Calories from Fat</th>\n",
       "      <td>0.858945</td>\n",
       "      <td>1.000000</td>\n",
       "      <td>0.999384</td>\n",
       "      <td>0.999492</td>\n",
       "      <td>0.871927</td>\n",
       "      <td>0.874043</td>\n",
       "      <td>0.580033</td>\n",
       "      <td>0.815522</td>\n",
       "      <td>0.813576</td>\n",
       "      <td>0.753304</td>\n",
       "      <td>...</td>\n",
       "      <td>0.422581</td>\n",
       "      <td>0.421672</td>\n",
       "      <td>0.464186</td>\n",
       "      <td>0.462394</td>\n",
       "      <td>0.013081</td>\n",
       "      <td>0.724599</td>\n",
       "      <td>0.122088</td>\n",
       "      <td>-0.096455</td>\n",
       "      <td>0.273203</td>\n",
       "      <td>0.696513</td>\n",
       "    </tr>\n",
       "    <tr>\n",
       "      <th>Total Fat</th>\n",
       "      <td>0.858945</td>\n",
       "      <td>0.999384</td>\n",
       "      <td>1.000000</td>\n",
       "      <td>0.999581</td>\n",
       "      <td>0.871762</td>\n",
       "      <td>0.873899</td>\n",
       "      <td>0.577137</td>\n",
       "      <td>0.812919</td>\n",
       "      <td>0.811001</td>\n",
       "      <td>0.752550</td>\n",
       "      <td>...</td>\n",
       "      <td>0.422429</td>\n",
       "      <td>0.421499</td>\n",
       "      <td>0.464280</td>\n",
       "      <td>0.462745</td>\n",
       "      <td>0.013156</td>\n",
       "      <td>0.724545</td>\n",
       "      <td>0.119173</td>\n",
       "      <td>-0.099367</td>\n",
       "      <td>0.276471</td>\n",
       "      <td>0.695369</td>\n",
       "    </tr>\n",
       "    <tr>\n",
       "      <th>Total Fat (% Daily Value)</th>\n",
       "      <td>0.858256</td>\n",
       "      <td>0.999492</td>\n",
       "      <td>0.999581</td>\n",
       "      <td>1.000000</td>\n",
       "      <td>0.873244</td>\n",
       "      <td>0.875376</td>\n",
       "      <td>0.579798</td>\n",
       "      <td>0.814210</td>\n",
       "      <td>0.812253</td>\n",
       "      <td>0.753797</td>\n",
       "      <td>...</td>\n",
       "      <td>0.421051</td>\n",
       "      <td>0.420135</td>\n",
       "      <td>0.463445</td>\n",
       "      <td>0.461922</td>\n",
       "      <td>0.012428</td>\n",
       "      <td>0.724766</td>\n",
       "      <td>0.118491</td>\n",
       "      <td>-0.099511</td>\n",
       "      <td>0.275097</td>\n",
       "      <td>0.696964</td>\n",
       "    </tr>\n",
       "    <tr>\n",
       "      <th>Saturated Fat</th>\n",
       "      <td>0.850022</td>\n",
       "      <td>0.871927</td>\n",
       "      <td>0.871762</td>\n",
       "      <td>0.873244</td>\n",
       "      <td>1.000000</td>\n",
       "      <td>0.999186</td>\n",
       "      <td>0.721395</td>\n",
       "      <td>0.803003</td>\n",
       "      <td>0.801637</td>\n",
       "      <td>0.440088</td>\n",
       "      <td>...</td>\n",
       "      <td>0.586030</td>\n",
       "      <td>0.585793</td>\n",
       "      <td>0.197529</td>\n",
       "      <td>0.197465</td>\n",
       "      <td>0.338827</td>\n",
       "      <td>0.531008</td>\n",
       "      <td>0.090916</td>\n",
       "      <td>-0.181445</td>\n",
       "      <td>0.476909</td>\n",
       "      <td>0.443680</td>\n",
       "    </tr>\n",
       "    <tr>\n",
       "      <th>Saturated Fat (% Daily Value)</th>\n",
       "      <td>0.851826</td>\n",
       "      <td>0.874043</td>\n",
       "      <td>0.873899</td>\n",
       "      <td>0.875376</td>\n",
       "      <td>0.999186</td>\n",
       "      <td>1.000000</td>\n",
       "      <td>0.722353</td>\n",
       "      <td>0.803100</td>\n",
       "      <td>0.801673</td>\n",
       "      <td>0.446278</td>\n",
       "      <td>...</td>\n",
       "      <td>0.586101</td>\n",
       "      <td>0.585727</td>\n",
       "      <td>0.202912</td>\n",
       "      <td>0.202276</td>\n",
       "      <td>0.337200</td>\n",
       "      <td>0.534670</td>\n",
       "      <td>0.091388</td>\n",
       "      <td>-0.179613</td>\n",
       "      <td>0.474694</td>\n",
       "      <td>0.446878</td>\n",
       "    </tr>\n",
       "    <tr>\n",
       "      <th>Trans Fat</th>\n",
       "      <td>0.645998</td>\n",
       "      <td>0.580033</td>\n",
       "      <td>0.577137</td>\n",
       "      <td>0.579798</td>\n",
       "      <td>0.721395</td>\n",
       "      <td>0.722353</td>\n",
       "      <td>1.000000</td>\n",
       "      <td>0.715855</td>\n",
       "      <td>0.709936</td>\n",
       "      <td>0.210869</td>\n",
       "      <td>...</td>\n",
       "      <td>0.514902</td>\n",
       "      <td>0.514590</td>\n",
       "      <td>0.058235</td>\n",
       "      <td>0.059743</td>\n",
       "      <td>0.373375</td>\n",
       "      <td>0.419540</td>\n",
       "      <td>0.076396</td>\n",
       "      <td>-0.083075</td>\n",
       "      <td>0.403630</td>\n",
       "      <td>0.387035</td>\n",
       "    </tr>\n",
       "    <tr>\n",
       "      <th>Cholesterol</th>\n",
       "      <td>0.793396</td>\n",
       "      <td>0.815522</td>\n",
       "      <td>0.812919</td>\n",
       "      <td>0.814210</td>\n",
       "      <td>0.803003</td>\n",
       "      <td>0.803100</td>\n",
       "      <td>0.715855</td>\n",
       "      <td>1.000000</td>\n",
       "      <td>0.998874</td>\n",
       "      <td>0.621807</td>\n",
       "      <td>...</td>\n",
       "      <td>0.440590</td>\n",
       "      <td>0.441315</td>\n",
       "      <td>0.323481</td>\n",
       "      <td>0.338997</td>\n",
       "      <td>0.136833</td>\n",
       "      <td>0.795517</td>\n",
       "      <td>0.250464</td>\n",
       "      <td>-0.117553</td>\n",
       "      <td>0.417005</td>\n",
       "      <td>0.663119</td>\n",
       "    </tr>\n",
       "    <tr>\n",
       "      <th>Cholesterol (% Daily Value)</th>\n",
       "      <td>0.788774</td>\n",
       "      <td>0.813576</td>\n",
       "      <td>0.811001</td>\n",
       "      <td>0.812253</td>\n",
       "      <td>0.801637</td>\n",
       "      <td>0.801673</td>\n",
       "      <td>0.709936</td>\n",
       "      <td>0.998874</td>\n",
       "      <td>1.000000</td>\n",
       "      <td>0.617125</td>\n",
       "      <td>...</td>\n",
       "      <td>0.434494</td>\n",
       "      <td>0.435268</td>\n",
       "      <td>0.319801</td>\n",
       "      <td>0.335879</td>\n",
       "      <td>0.134256</td>\n",
       "      <td>0.793800</td>\n",
       "      <td>0.250743</td>\n",
       "      <td>-0.118891</td>\n",
       "      <td>0.418504</td>\n",
       "      <td>0.656528</td>\n",
       "    </tr>\n",
       "    <tr>\n",
       "      <th>Sodium</th>\n",
       "      <td>0.556517</td>\n",
       "      <td>0.753304</td>\n",
       "      <td>0.752550</td>\n",
       "      <td>0.753797</td>\n",
       "      <td>0.440088</td>\n",
       "      <td>0.446278</td>\n",
       "      <td>0.210869</td>\n",
       "      <td>0.621807</td>\n",
       "      <td>0.617125</td>\n",
       "      <td>1.000000</td>\n",
       "      <td>...</td>\n",
       "      <td>0.049334</td>\n",
       "      <td>0.048917</td>\n",
       "      <td>0.614203</td>\n",
       "      <td>0.614469</td>\n",
       "      <td>-0.407958</td>\n",
       "      <td>0.837555</td>\n",
       "      <td>0.143373</td>\n",
       "      <td>-0.013388</td>\n",
       "      <td>-0.003515</td>\n",
       "      <td>0.859792</td>\n",
       "    </tr>\n",
       "    <tr>\n",
       "      <th>Sodium (% Daily Value)</th>\n",
       "      <td>0.558128</td>\n",
       "      <td>0.754378</td>\n",
       "      <td>0.753566</td>\n",
       "      <td>0.754849</td>\n",
       "      <td>0.441869</td>\n",
       "      <td>0.448085</td>\n",
       "      <td>0.211993</td>\n",
       "      <td>0.622642</td>\n",
       "      <td>0.618028</td>\n",
       "      <td>0.999887</td>\n",
       "      <td>...</td>\n",
       "      <td>0.051338</td>\n",
       "      <td>0.050918</td>\n",
       "      <td>0.613493</td>\n",
       "      <td>0.613739</td>\n",
       "      <td>-0.405956</td>\n",
       "      <td>0.837642</td>\n",
       "      <td>0.143659</td>\n",
       "      <td>-0.013642</td>\n",
       "      <td>-0.001033</td>\n",
       "      <td>0.858417</td>\n",
       "    </tr>\n",
       "    <tr>\n",
       "      <th>Carbohydrates</th>\n",
       "      <td>0.809002</td>\n",
       "      <td>0.422581</td>\n",
       "      <td>0.422429</td>\n",
       "      <td>0.421051</td>\n",
       "      <td>0.586030</td>\n",
       "      <td>0.586101</td>\n",
       "      <td>0.514902</td>\n",
       "      <td>0.440590</td>\n",
       "      <td>0.434494</td>\n",
       "      <td>0.049334</td>\n",
       "      <td>...</td>\n",
       "      <td>1.000000</td>\n",
       "      <td>0.999603</td>\n",
       "      <td>0.107730</td>\n",
       "      <td>0.117281</td>\n",
       "      <td>0.857359</td>\n",
       "      <td>0.272573</td>\n",
       "      <td>0.102255</td>\n",
       "      <td>-0.032470</td>\n",
       "      <td>0.631610</td>\n",
       "      <td>0.101410</td>\n",
       "    </tr>\n",
       "    <tr>\n",
       "      <th>Carbohydrates (% Daily Value)</th>\n",
       "      <td>0.808303</td>\n",
       "      <td>0.421672</td>\n",
       "      <td>0.421499</td>\n",
       "      <td>0.420135</td>\n",
       "      <td>0.585793</td>\n",
       "      <td>0.585727</td>\n",
       "      <td>0.514590</td>\n",
       "      <td>0.441315</td>\n",
       "      <td>0.435268</td>\n",
       "      <td>0.048917</td>\n",
       "      <td>...</td>\n",
       "      <td>0.999603</td>\n",
       "      <td>1.000000</td>\n",
       "      <td>0.107128</td>\n",
       "      <td>0.116232</td>\n",
       "      <td>0.857701</td>\n",
       "      <td>0.272546</td>\n",
       "      <td>0.101831</td>\n",
       "      <td>-0.033159</td>\n",
       "      <td>0.632510</td>\n",
       "      <td>0.100919</td>\n",
       "    </tr>\n",
       "    <tr>\n",
       "      <th>Dietary Fiber</th>\n",
       "      <td>0.399548</td>\n",
       "      <td>0.464186</td>\n",
       "      <td>0.464280</td>\n",
       "      <td>0.463445</td>\n",
       "      <td>0.197529</td>\n",
       "      <td>0.202912</td>\n",
       "      <td>0.058235</td>\n",
       "      <td>0.323481</td>\n",
       "      <td>0.319801</td>\n",
       "      <td>0.614203</td>\n",
       "      <td>...</td>\n",
       "      <td>0.107730</td>\n",
       "      <td>0.107128</td>\n",
       "      <td>1.000000</td>\n",
       "      <td>0.983058</td>\n",
       "      <td>-0.253779</td>\n",
       "      <td>0.577167</td>\n",
       "      <td>0.413099</td>\n",
       "      <td>0.187037</td>\n",
       "      <td>0.028152</td>\n",
       "      <td>0.677131</td>\n",
       "    </tr>\n",
       "    <tr>\n",
       "      <th>Dietary Fiber (% Daily Value)</th>\n",
       "      <td>0.408117</td>\n",
       "      <td>0.462394</td>\n",
       "      <td>0.462745</td>\n",
       "      <td>0.461922</td>\n",
       "      <td>0.197465</td>\n",
       "      <td>0.202276</td>\n",
       "      <td>0.059743</td>\n",
       "      <td>0.338997</td>\n",
       "      <td>0.335879</td>\n",
       "      <td>0.614469</td>\n",
       "      <td>...</td>\n",
       "      <td>0.117281</td>\n",
       "      <td>0.116232</td>\n",
       "      <td>0.983058</td>\n",
       "      <td>1.000000</td>\n",
       "      <td>-0.244352</td>\n",
       "      <td>0.601079</td>\n",
       "      <td>0.436021</td>\n",
       "      <td>0.196340</td>\n",
       "      <td>0.053286</td>\n",
       "      <td>0.678587</td>\n",
       "    </tr>\n",
       "    <tr>\n",
       "      <th>Sugars</th>\n",
       "      <td>0.456454</td>\n",
       "      <td>0.013081</td>\n",
       "      <td>0.013156</td>\n",
       "      <td>0.012428</td>\n",
       "      <td>0.338827</td>\n",
       "      <td>0.337200</td>\n",
       "      <td>0.373375</td>\n",
       "      <td>0.136833</td>\n",
       "      <td>0.134256</td>\n",
       "      <td>-0.407958</td>\n",
       "      <td>...</td>\n",
       "      <td>0.857359</td>\n",
       "      <td>0.857701</td>\n",
       "      <td>-0.253779</td>\n",
       "      <td>-0.244352</td>\n",
       "      <td>1.000000</td>\n",
       "      <td>-0.106751</td>\n",
       "      <td>0.042744</td>\n",
       "      <td>-0.082562</td>\n",
       "      <td>0.612424</td>\n",
       "      <td>-0.324141</td>\n",
       "    </tr>\n",
       "    <tr>\n",
       "      <th>Protein</th>\n",
       "      <td>0.699335</td>\n",
       "      <td>0.724599</td>\n",
       "      <td>0.724545</td>\n",
       "      <td>0.724766</td>\n",
       "      <td>0.531008</td>\n",
       "      <td>0.534670</td>\n",
       "      <td>0.419540</td>\n",
       "      <td>0.795517</td>\n",
       "      <td>0.793800</td>\n",
       "      <td>0.837555</td>\n",
       "      <td>...</td>\n",
       "      <td>0.272573</td>\n",
       "      <td>0.272546</td>\n",
       "      <td>0.577167</td>\n",
       "      <td>0.601079</td>\n",
       "      <td>-0.106751</td>\n",
       "      <td>1.000000</td>\n",
       "      <td>0.287192</td>\n",
       "      <td>-0.042797</td>\n",
       "      <td>0.424358</td>\n",
       "      <td>0.809429</td>\n",
       "    </tr>\n",
       "    <tr>\n",
       "      <th>Vitamin A (% Daily Value)</th>\n",
       "      <td>0.170369</td>\n",
       "      <td>0.122088</td>\n",
       "      <td>0.119173</td>\n",
       "      <td>0.118491</td>\n",
       "      <td>0.090916</td>\n",
       "      <td>0.091388</td>\n",
       "      <td>0.076396</td>\n",
       "      <td>0.250464</td>\n",
       "      <td>0.250743</td>\n",
       "      <td>0.143373</td>\n",
       "      <td>...</td>\n",
       "      <td>0.102255</td>\n",
       "      <td>0.101831</td>\n",
       "      <td>0.413099</td>\n",
       "      <td>0.436021</td>\n",
       "      <td>0.042744</td>\n",
       "      <td>0.287192</td>\n",
       "      <td>1.000000</td>\n",
       "      <td>0.068283</td>\n",
       "      <td>0.176368</td>\n",
       "      <td>0.182625</td>\n",
       "    </tr>\n",
       "    <tr>\n",
       "      <th>Vitamin C (% Daily Value)</th>\n",
       "      <td>-0.069180</td>\n",
       "      <td>-0.096455</td>\n",
       "      <td>-0.099367</td>\n",
       "      <td>-0.099511</td>\n",
       "      <td>-0.181445</td>\n",
       "      <td>-0.179613</td>\n",
       "      <td>-0.083075</td>\n",
       "      <td>-0.117553</td>\n",
       "      <td>-0.118891</td>\n",
       "      <td>-0.013388</td>\n",
       "      <td>...</td>\n",
       "      <td>-0.032470</td>\n",
       "      <td>-0.033159</td>\n",
       "      <td>0.187037</td>\n",
       "      <td>0.196340</td>\n",
       "      <td>-0.082562</td>\n",
       "      <td>-0.042797</td>\n",
       "      <td>0.068283</td>\n",
       "      <td>1.000000</td>\n",
       "      <td>-0.216539</td>\n",
       "      <td>0.033167</td>\n",
       "    </tr>\n",
       "    <tr>\n",
       "      <th>Calcium (% Daily Value)</th>\n",
       "      <td>0.569426</td>\n",
       "      <td>0.273203</td>\n",
       "      <td>0.276471</td>\n",
       "      <td>0.275097</td>\n",
       "      <td>0.476909</td>\n",
       "      <td>0.474694</td>\n",
       "      <td>0.403630</td>\n",
       "      <td>0.417005</td>\n",
       "      <td>0.418504</td>\n",
       "      <td>-0.003515</td>\n",
       "      <td>...</td>\n",
       "      <td>0.631610</td>\n",
       "      <td>0.632510</td>\n",
       "      <td>0.028152</td>\n",
       "      <td>0.053286</td>\n",
       "      <td>0.612424</td>\n",
       "      <td>0.424358</td>\n",
       "      <td>0.176368</td>\n",
       "      <td>-0.216539</td>\n",
       "      <td>1.000000</td>\n",
       "      <td>0.042281</td>\n",
       "    </tr>\n",
       "    <tr>\n",
       "      <th>Iron (% Daily Value)</th>\n",
       "      <td>0.553594</td>\n",
       "      <td>0.696513</td>\n",
       "      <td>0.695369</td>\n",
       "      <td>0.696964</td>\n",
       "      <td>0.443680</td>\n",
       "      <td>0.446878</td>\n",
       "      <td>0.387035</td>\n",
       "      <td>0.663119</td>\n",
       "      <td>0.656528</td>\n",
       "      <td>0.859792</td>\n",
       "      <td>...</td>\n",
       "      <td>0.101410</td>\n",
       "      <td>0.100919</td>\n",
       "      <td>0.677131</td>\n",
       "      <td>0.678587</td>\n",
       "      <td>-0.324141</td>\n",
       "      <td>0.809429</td>\n",
       "      <td>0.182625</td>\n",
       "      <td>0.033167</td>\n",
       "      <td>0.042281</td>\n",
       "      <td>1.000000</td>\n",
       "    </tr>\n",
       "  </tbody>\n",
       "</table>\n",
       "<p>21 rows × 21 columns</p>\n",
       "</div>"
      ],
      "text/plain": [
       "                               Calories  Calories from Fat  Total Fat  \\\n",
       "Calories                       1.000000           0.858945   0.858945   \n",
       "Calories from Fat              0.858945           1.000000   0.999384   \n",
       "Total Fat                      0.858945           0.999384   1.000000   \n",
       "Total Fat (% Daily Value)      0.858256           0.999492   0.999581   \n",
       "Saturated Fat                  0.850022           0.871927   0.871762   \n",
       "Saturated Fat (% Daily Value)  0.851826           0.874043   0.873899   \n",
       "Trans Fat                      0.645998           0.580033   0.577137   \n",
       "Cholesterol                    0.793396           0.815522   0.812919   \n",
       "Cholesterol (% Daily Value)    0.788774           0.813576   0.811001   \n",
       "Sodium                         0.556517           0.753304   0.752550   \n",
       "Sodium (% Daily Value)         0.558128           0.754378   0.753566   \n",
       "Carbohydrates                  0.809002           0.422581   0.422429   \n",
       "Carbohydrates (% Daily Value)  0.808303           0.421672   0.421499   \n",
       "Dietary Fiber                  0.399548           0.464186   0.464280   \n",
       "Dietary Fiber (% Daily Value)  0.408117           0.462394   0.462745   \n",
       "Sugars                         0.456454           0.013081   0.013156   \n",
       "Protein                        0.699335           0.724599   0.724545   \n",
       "Vitamin A (% Daily Value)      0.170369           0.122088   0.119173   \n",
       "Vitamin C (% Daily Value)     -0.069180          -0.096455  -0.099367   \n",
       "Calcium (% Daily Value)        0.569426           0.273203   0.276471   \n",
       "Iron (% Daily Value)           0.553594           0.696513   0.695369   \n",
       "\n",
       "                               Total Fat (% Daily Value)  Saturated Fat  \\\n",
       "Calories                                        0.858256       0.850022   \n",
       "Calories from Fat                               0.999492       0.871927   \n",
       "Total Fat                                       0.999581       0.871762   \n",
       "Total Fat (% Daily Value)                       1.000000       0.873244   \n",
       "Saturated Fat                                   0.873244       1.000000   \n",
       "Saturated Fat (% Daily Value)                   0.875376       0.999186   \n",
       "Trans Fat                                       0.579798       0.721395   \n",
       "Cholesterol                                     0.814210       0.803003   \n",
       "Cholesterol (% Daily Value)                     0.812253       0.801637   \n",
       "Sodium                                          0.753797       0.440088   \n",
       "Sodium (% Daily Value)                          0.754849       0.441869   \n",
       "Carbohydrates                                   0.421051       0.586030   \n",
       "Carbohydrates (% Daily Value)                   0.420135       0.585793   \n",
       "Dietary Fiber                                   0.463445       0.197529   \n",
       "Dietary Fiber (% Daily Value)                   0.461922       0.197465   \n",
       "Sugars                                          0.012428       0.338827   \n",
       "Protein                                         0.724766       0.531008   \n",
       "Vitamin A (% Daily Value)                       0.118491       0.090916   \n",
       "Vitamin C (% Daily Value)                      -0.099511      -0.181445   \n",
       "Calcium (% Daily Value)                         0.275097       0.476909   \n",
       "Iron (% Daily Value)                            0.696964       0.443680   \n",
       "\n",
       "                               Saturated Fat (% Daily Value)  Trans Fat  \\\n",
       "Calories                                            0.851826   0.645998   \n",
       "Calories from Fat                                   0.874043   0.580033   \n",
       "Total Fat                                           0.873899   0.577137   \n",
       "Total Fat (% Daily Value)                           0.875376   0.579798   \n",
       "Saturated Fat                                       0.999186   0.721395   \n",
       "Saturated Fat (% Daily Value)                       1.000000   0.722353   \n",
       "Trans Fat                                           0.722353   1.000000   \n",
       "Cholesterol                                         0.803100   0.715855   \n",
       "Cholesterol (% Daily Value)                         0.801673   0.709936   \n",
       "Sodium                                              0.446278   0.210869   \n",
       "Sodium (% Daily Value)                              0.448085   0.211993   \n",
       "Carbohydrates                                       0.586101   0.514902   \n",
       "Carbohydrates (% Daily Value)                       0.585727   0.514590   \n",
       "Dietary Fiber                                       0.202912   0.058235   \n",
       "Dietary Fiber (% Daily Value)                       0.202276   0.059743   \n",
       "Sugars                                              0.337200   0.373375   \n",
       "Protein                                             0.534670   0.419540   \n",
       "Vitamin A (% Daily Value)                           0.091388   0.076396   \n",
       "Vitamin C (% Daily Value)                          -0.179613  -0.083075   \n",
       "Calcium (% Daily Value)                             0.474694   0.403630   \n",
       "Iron (% Daily Value)                                0.446878   0.387035   \n",
       "\n",
       "                               Cholesterol  Cholesterol (% Daily Value)  \\\n",
       "Calories                          0.793396                     0.788774   \n",
       "Calories from Fat                 0.815522                     0.813576   \n",
       "Total Fat                         0.812919                     0.811001   \n",
       "Total Fat (% Daily Value)         0.814210                     0.812253   \n",
       "Saturated Fat                     0.803003                     0.801637   \n",
       "Saturated Fat (% Daily Value)     0.803100                     0.801673   \n",
       "Trans Fat                         0.715855                     0.709936   \n",
       "Cholesterol                       1.000000                     0.998874   \n",
       "Cholesterol (% Daily Value)       0.998874                     1.000000   \n",
       "Sodium                            0.621807                     0.617125   \n",
       "Sodium (% Daily Value)            0.622642                     0.618028   \n",
       "Carbohydrates                     0.440590                     0.434494   \n",
       "Carbohydrates (% Daily Value)     0.441315                     0.435268   \n",
       "Dietary Fiber                     0.323481                     0.319801   \n",
       "Dietary Fiber (% Daily Value)     0.338997                     0.335879   \n",
       "Sugars                            0.136833                     0.134256   \n",
       "Protein                           0.795517                     0.793800   \n",
       "Vitamin A (% Daily Value)         0.250464                     0.250743   \n",
       "Vitamin C (% Daily Value)        -0.117553                    -0.118891   \n",
       "Calcium (% Daily Value)           0.417005                     0.418504   \n",
       "Iron (% Daily Value)              0.663119                     0.656528   \n",
       "\n",
       "                                 Sodium  ...  Carbohydrates  \\\n",
       "Calories                       0.556517  ...       0.809002   \n",
       "Calories from Fat              0.753304  ...       0.422581   \n",
       "Total Fat                      0.752550  ...       0.422429   \n",
       "Total Fat (% Daily Value)      0.753797  ...       0.421051   \n",
       "Saturated Fat                  0.440088  ...       0.586030   \n",
       "Saturated Fat (% Daily Value)  0.446278  ...       0.586101   \n",
       "Trans Fat                      0.210869  ...       0.514902   \n",
       "Cholesterol                    0.621807  ...       0.440590   \n",
       "Cholesterol (% Daily Value)    0.617125  ...       0.434494   \n",
       "Sodium                         1.000000  ...       0.049334   \n",
       "Sodium (% Daily Value)         0.999887  ...       0.051338   \n",
       "Carbohydrates                  0.049334  ...       1.000000   \n",
       "Carbohydrates (% Daily Value)  0.048917  ...       0.999603   \n",
       "Dietary Fiber                  0.614203  ...       0.107730   \n",
       "Dietary Fiber (% Daily Value)  0.614469  ...       0.117281   \n",
       "Sugars                        -0.407958  ...       0.857359   \n",
       "Protein                        0.837555  ...       0.272573   \n",
       "Vitamin A (% Daily Value)      0.143373  ...       0.102255   \n",
       "Vitamin C (% Daily Value)     -0.013388  ...      -0.032470   \n",
       "Calcium (% Daily Value)       -0.003515  ...       0.631610   \n",
       "Iron (% Daily Value)           0.859792  ...       0.101410   \n",
       "\n",
       "                               Carbohydrates (% Daily Value)  Dietary Fiber  \\\n",
       "Calories                                            0.808303       0.399548   \n",
       "Calories from Fat                                   0.421672       0.464186   \n",
       "Total Fat                                           0.421499       0.464280   \n",
       "Total Fat (% Daily Value)                           0.420135       0.463445   \n",
       "Saturated Fat                                       0.585793       0.197529   \n",
       "Saturated Fat (% Daily Value)                       0.585727       0.202912   \n",
       "Trans Fat                                           0.514590       0.058235   \n",
       "Cholesterol                                         0.441315       0.323481   \n",
       "Cholesterol (% Daily Value)                         0.435268       0.319801   \n",
       "Sodium                                              0.048917       0.614203   \n",
       "Sodium (% Daily Value)                              0.050918       0.613493   \n",
       "Carbohydrates                                       0.999603       0.107730   \n",
       "Carbohydrates (% Daily Value)                       1.000000       0.107128   \n",
       "Dietary Fiber                                       0.107128       1.000000   \n",
       "Dietary Fiber (% Daily Value)                       0.116232       0.983058   \n",
       "Sugars                                              0.857701      -0.253779   \n",
       "Protein                                             0.272546       0.577167   \n",
       "Vitamin A (% Daily Value)                           0.101831       0.413099   \n",
       "Vitamin C (% Daily Value)                          -0.033159       0.187037   \n",
       "Calcium (% Daily Value)                             0.632510       0.028152   \n",
       "Iron (% Daily Value)                                0.100919       0.677131   \n",
       "\n",
       "                               Dietary Fiber (% Daily Value)    Sugars  \\\n",
       "Calories                                            0.408117  0.456454   \n",
       "Calories from Fat                                   0.462394  0.013081   \n",
       "Total Fat                                           0.462745  0.013156   \n",
       "Total Fat (% Daily Value)                           0.461922  0.012428   \n",
       "Saturated Fat                                       0.197465  0.338827   \n",
       "Saturated Fat (% Daily Value)                       0.202276  0.337200   \n",
       "Trans Fat                                           0.059743  0.373375   \n",
       "Cholesterol                                         0.338997  0.136833   \n",
       "Cholesterol (% Daily Value)                         0.335879  0.134256   \n",
       "Sodium                                              0.614469 -0.407958   \n",
       "Sodium (% Daily Value)                              0.613739 -0.405956   \n",
       "Carbohydrates                                       0.117281  0.857359   \n",
       "Carbohydrates (% Daily Value)                       0.116232  0.857701   \n",
       "Dietary Fiber                                       0.983058 -0.253779   \n",
       "Dietary Fiber (% Daily Value)                       1.000000 -0.244352   \n",
       "Sugars                                             -0.244352  1.000000   \n",
       "Protein                                             0.601079 -0.106751   \n",
       "Vitamin A (% Daily Value)                           0.436021  0.042744   \n",
       "Vitamin C (% Daily Value)                           0.196340 -0.082562   \n",
       "Calcium (% Daily Value)                             0.053286  0.612424   \n",
       "Iron (% Daily Value)                                0.678587 -0.324141   \n",
       "\n",
       "                                Protein  Vitamin A (% Daily Value)  \\\n",
       "Calories                       0.699335                   0.170369   \n",
       "Calories from Fat              0.724599                   0.122088   \n",
       "Total Fat                      0.724545                   0.119173   \n",
       "Total Fat (% Daily Value)      0.724766                   0.118491   \n",
       "Saturated Fat                  0.531008                   0.090916   \n",
       "Saturated Fat (% Daily Value)  0.534670                   0.091388   \n",
       "Trans Fat                      0.419540                   0.076396   \n",
       "Cholesterol                    0.795517                   0.250464   \n",
       "Cholesterol (% Daily Value)    0.793800                   0.250743   \n",
       "Sodium                         0.837555                   0.143373   \n",
       "Sodium (% Daily Value)         0.837642                   0.143659   \n",
       "Carbohydrates                  0.272573                   0.102255   \n",
       "Carbohydrates (% Daily Value)  0.272546                   0.101831   \n",
       "Dietary Fiber                  0.577167                   0.413099   \n",
       "Dietary Fiber (% Daily Value)  0.601079                   0.436021   \n",
       "Sugars                        -0.106751                   0.042744   \n",
       "Protein                        1.000000                   0.287192   \n",
       "Vitamin A (% Daily Value)      0.287192                   1.000000   \n",
       "Vitamin C (% Daily Value)     -0.042797                   0.068283   \n",
       "Calcium (% Daily Value)        0.424358                   0.176368   \n",
       "Iron (% Daily Value)           0.809429                   0.182625   \n",
       "\n",
       "                               Vitamin C (% Daily Value)  \\\n",
       "Calories                                       -0.069180   \n",
       "Calories from Fat                              -0.096455   \n",
       "Total Fat                                      -0.099367   \n",
       "Total Fat (% Daily Value)                      -0.099511   \n",
       "Saturated Fat                                  -0.181445   \n",
       "Saturated Fat (% Daily Value)                  -0.179613   \n",
       "Trans Fat                                      -0.083075   \n",
       "Cholesterol                                    -0.117553   \n",
       "Cholesterol (% Daily Value)                    -0.118891   \n",
       "Sodium                                         -0.013388   \n",
       "Sodium (% Daily Value)                         -0.013642   \n",
       "Carbohydrates                                  -0.032470   \n",
       "Carbohydrates (% Daily Value)                  -0.033159   \n",
       "Dietary Fiber                                   0.187037   \n",
       "Dietary Fiber (% Daily Value)                   0.196340   \n",
       "Sugars                                         -0.082562   \n",
       "Protein                                        -0.042797   \n",
       "Vitamin A (% Daily Value)                       0.068283   \n",
       "Vitamin C (% Daily Value)                       1.000000   \n",
       "Calcium (% Daily Value)                        -0.216539   \n",
       "Iron (% Daily Value)                            0.033167   \n",
       "\n",
       "                               Calcium (% Daily Value)  Iron (% Daily Value)  \n",
       "Calories                                      0.569426              0.553594  \n",
       "Calories from Fat                             0.273203              0.696513  \n",
       "Total Fat                                     0.276471              0.695369  \n",
       "Total Fat (% Daily Value)                     0.275097              0.696964  \n",
       "Saturated Fat                                 0.476909              0.443680  \n",
       "Saturated Fat (% Daily Value)                 0.474694              0.446878  \n",
       "Trans Fat                                     0.403630              0.387035  \n",
       "Cholesterol                                   0.417005              0.663119  \n",
       "Cholesterol (% Daily Value)                   0.418504              0.656528  \n",
       "Sodium                                       -0.003515              0.859792  \n",
       "Sodium (% Daily Value)                       -0.001033              0.858417  \n",
       "Carbohydrates                                 0.631610              0.101410  \n",
       "Carbohydrates (% Daily Value)                 0.632510              0.100919  \n",
       "Dietary Fiber                                 0.028152              0.677131  \n",
       "Dietary Fiber (% Daily Value)                 0.053286              0.678587  \n",
       "Sugars                                        0.612424             -0.324141  \n",
       "Protein                                       0.424358              0.809429  \n",
       "Vitamin A (% Daily Value)                     0.176368              0.182625  \n",
       "Vitamin C (% Daily Value)                    -0.216539              0.033167  \n",
       "Calcium (% Daily Value)                       1.000000              0.042281  \n",
       "Iron (% Daily Value)                          0.042281              1.000000  \n",
       "\n",
       "[21 rows x 21 columns]"
      ]
     },
     "execution_count": 37,
     "metadata": {},
     "output_type": "execute_result"
    }
   ],
   "source": [
    "df_cleaned.corr(method=\"pearson\")"
   ]
  },
  {
   "cell_type": "markdown",
   "metadata": {},
   "source": [
    "## Mean, standard devisiasi, variance, dan range dari variabel \"Calories\", \"Carbohydrates\", \"Carbohydrates (% Daily Value)\""
   ]
  },
  {
   "cell_type": "markdown",
   "metadata": {},
   "source": [
    "#### 1. Carbohydrates"
   ]
  },
  {
   "cell_type": "code",
   "execution_count": 38,
   "metadata": {},
   "outputs": [
    {
     "name": "stdout",
     "output_type": "stream",
     "text": [
      "mean:  46.15\n",
      "standard devisiasi:  27.636962091376237\n",
      "variance:  763.8016736401672\n",
      "range:  141\n"
     ]
    }
   ],
   "source": [
    "meanKarbo = df_cleaned['Carbohydrates'].mean()\n",
    "stdKarbo = df_cleaned['Carbohydrates'].std()\n",
    "varianceKarbo = pd.Series(df_cleaned['Carbohydrates'])\n",
    "rangeDataKarbo = np.ptp(df_cleaned['Carbohydrates'])\n",
    "\n",
    "print('mean: ',meanKarbo)\n",
    "print('standard devisiasi: ',stdKarbo)\n",
    "print('variance: ',varianceKarbo.var())\n",
    "print('range: ',rangeDataKarbo)"
   ]
  },
  {
   "cell_type": "markdown",
   "metadata": {},
   "source": [
    "#### 2. Calories"
   ]
  },
  {
   "cell_type": "code",
   "execution_count": 39,
   "metadata": {
    "scrolled": false
   },
   "outputs": [
    {
     "name": "stdout",
     "output_type": "stream",
     "text": [
      "mean:  337.625\n",
      "standard devisiasi:  199.09624520205418\n",
      "variance:  39639.31485355648\n",
      "range:  930\n"
     ]
    }
   ],
   "source": [
    "meanCalories = df_cleaned['Calories'].mean()\n",
    "stdCalories = df_cleaned['Calories'].std()\n",
    "varianceCalories = pd.Series(df_cleaned['Calories'])\n",
    "rangeDataCalories = np.ptp(df_cleaned['Calories'])\n",
    "\n",
    "print('mean: ',meanCalories)\n",
    "print('standard devisiasi: ',stdCalories)\n",
    "print('variance: ',varianceCalories.var())\n",
    "print('range: ',rangeDataCalories)"
   ]
  },
  {
   "cell_type": "markdown",
   "metadata": {},
   "source": [
    "#### 3. Carbohydrates (% Daily Value)"
   ]
  },
  {
   "cell_type": "code",
   "execution_count": 40,
   "metadata": {
    "scrolled": true
   },
   "outputs": [
    {
     "name": "stdout",
     "output_type": "stream",
     "text": [
      "mean:  15.379166666666666\n",
      "standard devisiasi:  9.212165831260853\n",
      "variance:  84.86399930264996\n",
      "range:  47\n"
     ]
    }
   ],
   "source": [
    "meanKarboDaily = df_cleaned['Carbohydrates (% Daily Value)'].mean()\n",
    "stdKarboDaily = df_cleaned['Carbohydrates (% Daily Value)'].std()\n",
    "varianceKarboDaily = pd.Series(df_cleaned['Carbohydrates (% Daily Value)'])\n",
    "rangeDataKarboDaily = np.ptp(df_cleaned['Carbohydrates (% Daily Value)'])\n",
    "\n",
    "print('mean: ',meanKarboDaily)\n",
    "print('standard devisiasi: ',stdKarboDaily)\n",
    "print('variance: ',varianceKarboDaily.var())\n",
    "print('range: ',rangeDataKarboDaily)"
   ]
  },
  {
   "cell_type": "markdown",
   "metadata": {},
   "source": [
    "## Distribusi Normal dari Variabel Tertentu"
   ]
  },
  {
   "cell_type": "markdown",
   "metadata": {},
   "source": [
    "####  1. Carbohydrates"
   ]
  },
  {
   "cell_type": "markdown",
   "metadata": {},
   "source": [
    "Disini kita membuat persentil dari variabel \"Carbohydrates\" karena variabel tersebut cenderung membentuk distribusi normal. Persentil dibuat dengan cara memilih 2 angka secara random lalu dilihat persentilnya dari data tersebut"
   ]
  },
  {
   "cell_type": "code",
   "execution_count": 41,
   "metadata": {
    "scrolled": false
   },
   "outputs": [
    {
     "name": "stdout",
     "output_type": "stream",
     "text": [
      "0.9978349996646172\n",
      "0.7044780471818276\n"
     ]
    }
   ],
   "source": [
    "karbo1 = stats.norm.cdf(125, loc = meanKarbo, scale = stdKarbo)\n",
    "karbo2 = stats.norm.cdf(61, loc = meanKarbo, scale = stdKarbo)\n",
    "\n",
    "print(karbo1)\n",
    "print(karbo2)"
   ]
  },
  {
   "cell_type": "markdown",
   "metadata": {},
   "source": [
    "#### 2. Calories"
   ]
  },
  {
   "cell_type": "code",
   "execution_count": 42,
   "metadata": {
    "scrolled": true
   },
   "outputs": [
    {
     "name": "stdout",
     "output_type": "stream",
     "text": [
      "0.06747287813604617\n",
      "0.8240945162681068\n"
     ]
    }
   ],
   "source": [
    "calories1 = stats.norm.cdf(40, loc = meanCalories, scale = stdCalories)\n",
    "calories2 = stats.norm.cdf(523, loc = meanCalories, scale = stdCalories)\n",
    "\n",
    "print(calories1)\n",
    "print(calories2)"
   ]
  },
  {
   "cell_type": "markdown",
   "metadata": {},
   "source": [
    "#### 3. Carbohydrates (% Daily Value)"
   ]
  },
  {
   "cell_type": "code",
   "execution_count": 43,
   "metadata": {},
   "outputs": [
    {
     "name": "stdout",
     "output_type": "stream",
     "text": [
      "1.0\n",
      "0.9999996331751213\n"
     ]
    }
   ],
   "source": [
    "karboDaily1 = stats.norm.cdf(125, loc = meanKarboDaily, scale = stdKarboDaily)\n",
    "karboDaily2 = stats.norm.cdf(61, loc = meanKarboDaily, scale = stdKarboDaily)\n",
    "\n",
    "print(karboDaily1)\n",
    "print(karboDaily2)"
   ]
  },
  {
   "cell_type": "markdown",
   "metadata": {},
   "source": []
  },
  {
   "cell_type": "markdown",
   "metadata": {},
   "source": [
    "## Analisis Random Variabel"
   ]
  },
  {
   "cell_type": "markdown",
   "metadata": {},
   "source": [
    "#### 1. Cholesterol"
   ]
  },
  {
   "cell_type": "code",
   "execution_count": 44,
   "metadata": {},
   "outputs": [
    {
     "data": {
      "text/plain": [
       "Beverages         25\n",
       "Coffee & Tea      11\n",
       "Snacks & Sides     6\n",
       "Breakfast          1\n",
       "Desserts           1\n",
       "Name: Category, dtype: int64"
      ]
     },
     "execution_count": 44,
     "metadata": {},
     "output_type": "execute_result"
    }
   ],
   "source": [
    "tmp = pd.DataFrame(df_cleaned, columns=['Cholesterol','Category'])\n",
    "\n",
    "colestrol0 = tmp[tmp['Cholesterol'] == 0]\n",
    "colestrol0 = colestrol0['Category'].value_counts()\n",
    "colestrol0"
   ]
  },
  {
   "cell_type": "code",
   "execution_count": 45,
   "metadata": {},
   "outputs": [
    {
     "data": {
      "text/plain": [
       "Chicken & Fish        16\n",
       "Smoothies & Shakes    14\n",
       "Beef & Pork           13\n",
       "Coffee & Tea          10\n",
       "Salads                 3\n",
       "Breakfast              2\n",
       "Name: Category, dtype: int64"
      ]
     },
     "execution_count": 45,
     "metadata": {},
     "output_type": "execute_result"
    }
   ],
   "source": [
    "tmp = pd.DataFrame(df_cleaned, columns=['Cholesterol','Category'])\n",
    "\n",
    "kolestrolGede = tmp[tmp['Cholesterol'] > 50]\n",
    "kolestrolGede = kolestrolGede['Category'].value_counts()\n",
    "kolestrolGede"
   ]
  },
  {
   "cell_type": "code",
   "execution_count": 46,
   "metadata": {},
   "outputs": [
    {
     "data": {
      "text/plain": [
       "Beef & Pork       4\n",
       "Chicken & Fish    2\n",
       "Breakfast         1\n",
       "Name: Category, dtype: int64"
      ]
     },
     "execution_count": 46,
     "metadata": {},
     "output_type": "execute_result"
    }
   ],
   "source": [
    "tmp = pd.DataFrame(df_cleaned, columns=['Cholesterol','Category'])\n",
    "\n",
    "kolestrolGedeBanget = tmp[tmp['Cholesterol'] > 100]\n",
    "kolestrolGedeBanget = kolestrolGedeBanget['Category'].value_counts()\n",
    "kolestrolGedeBanget"
   ]
  },
  {
   "cell_type": "markdown",
   "metadata": {},
   "source": [
    "#### 2. Trans Fat"
   ]
  },
  {
   "cell_type": "code",
   "execution_count": 47,
   "metadata": {
    "scrolled": true
   },
   "outputs": [
    {
     "data": {
      "text/plain": [
       "0.0    189\n",
       "1.0     27\n",
       "0.5     16\n",
       "1.5      7\n",
       "2.5      1\n",
       "Name: Trans Fat, dtype: int64"
      ]
     },
     "execution_count": 47,
     "metadata": {},
     "output_type": "execute_result"
    }
   ],
   "source": [
    "df_cleaned['Trans Fat'].value_counts()"
   ]
  },
  {
   "cell_type": "code",
   "execution_count": 48,
   "metadata": {
    "scrolled": true
   },
   "outputs": [
    {
     "data": {
      "text/plain": [
       "Coffee & Tea          79\n",
       "Beverages             27\n",
       "Breakfast             23\n",
       "Chicken & Fish        20\n",
       "Snacks & Sides        13\n",
       "Smoothies & Shakes    12\n",
       "Desserts               7\n",
       "Salads                 6\n",
       "Beef & Pork            2\n",
       "Name: Category, dtype: int64"
      ]
     },
     "execution_count": 48,
     "metadata": {},
     "output_type": "execute_result"
    }
   ],
   "source": [
    "tmp = pd.DataFrame(df_cleaned, columns=['Trans Fat','Category'])\n",
    "\n",
    "transFat = tmp[tmp['Trans Fat'] == 0]\n",
    "transFat = transFat['Category'].value_counts()\n",
    "transFat"
   ]
  },
  {
   "cell_type": "code",
   "execution_count": 49,
   "metadata": {
    "scrolled": true
   },
   "outputs": [
    {
     "data": {
      "text/plain": [
       "Smoothies & Shakes    16\n",
       "Coffee & Tea          16\n",
       "Beef & Pork           13\n",
       "Chicken & Fish         5\n",
       "Breakfast              1\n",
       "Name: Category, dtype: int64"
      ]
     },
     "execution_count": 49,
     "metadata": {},
     "output_type": "execute_result"
    }
   ],
   "source": [
    "tmp = pd.DataFrame(df_cleaned, columns=['Trans Fat','Category'])\n",
    "\n",
    "transFat = tmp[tmp['Trans Fat'] >= 0.5]\n",
    "transFat = transFat['Category'].value_counts()\n",
    "transFat"
   ]
  },
  {
   "cell_type": "code",
   "execution_count": 50,
   "metadata": {},
   "outputs": [
    {
     "data": {
      "text/plain": [
       "Smoothies & Shakes    14\n",
       "Beef & Pork           12\n",
       "Coffee & Tea           9\n",
       "Name: Category, dtype: int64"
      ]
     },
     "execution_count": 50,
     "metadata": {},
     "output_type": "execute_result"
    }
   ],
   "source": [
    "tmp = pd.DataFrame(df_cleaned, columns=['Trans Fat','Category'])\n",
    "\n",
    "transFat = tmp[tmp['Trans Fat'] >= 1]\n",
    "transFat = transFat['Category'].value_counts()\n",
    "transFat"
   ]
  },
  {
   "cell_type": "markdown",
   "metadata": {},
   "source": [
    "## Export ke csv yang baru"
   ]
  },
  {
   "cell_type": "code",
   "execution_count": 51,
   "metadata": {},
   "outputs": [],
   "source": [
    "#df_cleaned.to_csv('data_menu_cleaned.csv')"
   ]
  }
 ],
 "metadata": {
  "kernelspec": {
   "display_name": "Python 3",
   "language": "python",
   "name": "python3"
  },
  "language_info": {
   "codemirror_mode": {
    "name": "ipython",
    "version": 3
   },
   "file_extension": ".py",
   "mimetype": "text/x-python",
   "name": "python",
   "nbconvert_exporter": "python",
   "pygments_lexer": "ipython3",
   "version": "3.8.3"
  }
 },
 "nbformat": 4,
 "nbformat_minor": 4
}
